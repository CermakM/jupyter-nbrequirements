{
 "cells": [
  {
   "cell_type": "markdown",
   "metadata": {
    "slideshow": {
     "slide_type": "slide"
    }
   },
   "source": [
    "# jupyter-nbrequirements\n",
    "\n",
    "<p style=\"font: 30px; text-transform: uppercase;\">\n",
    "    Jupyter Notebook dependency resolution and environment setup\n",
    "</p>\n",
    "\n",
    "---\n",
    "\n",
    "<span style=\"font: 18px\"><b>Description</b></span><br>\n",
    "\n",
    "<p style=\"text-align: justify; text-justify: inter-word;\">\n",
    "    This is an e2e pipeline from a single Jupyter notebook to fully set-up virtual environment ready to run the notebook.\n",
    "    We're gonna demonstrate the whole functionality starting with setting notebook requirements, through Thoth configuration and dependency resolution to creating a complete virtual environment and setting a new Jupyter kernel.\n",
    "    Hold tight. \n",
    "</p>\n",
    "\n",
    "<span style=\"font: 18px\"><b>Goal</b></span><br>\n",
    "\n",
    "<p style=\"text-align: justify; text-justify: inter-word;\">\n",
    "    Run all cells in the notebook.\n",
    "</p>"
   ]
  },
  {
   "cell_type": "markdown",
   "metadata": {
    "slideshow": {
     "slide_type": "skip"
    },
    "toc": true
   },
   "source": [
    "<h1>Table of Contents<span class=\"tocSkip\"></span></h1>\n",
    "<div class=\"toc\"><ul class=\"toc-item\"><li><span><a href=\"#Notebook-Content\" data-toc-modified-id=\"Notebook-Content-1\"><span class=\"toc-item-num\">1&nbsp;&nbsp;</span>Notebook Content</a></span></li><li><span><a href=\"#Set-notebook-requirements\" data-toc-modified-id=\"Set-notebook-requirements-2\"><span class=\"toc-item-num\">2&nbsp;&nbsp;</span>Set notebook requirements</a></span></li><li><span><a href=\"#Get-notebook-requirements\" data-toc-modified-id=\"Get-notebook-requirements-3\"><span class=\"toc-item-num\">3&nbsp;&nbsp;</span>Get notebook requirements</a></span></li><li><span><a href=\"#Generate-Thoth-config\" data-toc-modified-id=\"Generate-Thoth-config-4\"><span class=\"toc-item-num\">4&nbsp;&nbsp;</span>Generate Thoth config</a></span></li><li><span><a href=\"#Generate-Pipfile\" data-toc-modified-id=\"Generate-Pipfile-5\"><span class=\"toc-item-num\">5&nbsp;&nbsp;</span>Generate Pipfile</a></span></li><li><span><a href=\"#Lock-down-dependencies\" data-toc-modified-id=\"Lock-down-dependencies-6\"><span class=\"toc-item-num\">6&nbsp;&nbsp;</span>Lock down dependencies</a></span></li><li><span><a href=\"#Install-dependencies-into-virtual-environment\" data-toc-modified-id=\"Install-dependencies-into-virtual-environment-7\"><span class=\"toc-item-num\">7&nbsp;&nbsp;</span>Install dependencies into virtual environment</a></span></li><li><span><a href=\"#Install-and-set-a-new-Jupyter-kernel\" data-toc-modified-id=\"Install-and-set-a-new-Jupyter-kernel-8\"><span class=\"toc-item-num\">8&nbsp;&nbsp;</span>Install and set a new Jupyter kernel</a></span></li><li><span><a href=\"#About-the-dep-ensure\" data-toc-modified-id=\"About-the-dep-ensure-9\"><span class=\"toc-item-num\">9&nbsp;&nbsp;</span>About the <code>dep ensure</code></a></span></li></ul></div>"
   ]
  },
  {
   "cell_type": "markdown",
   "metadata": {
    "slideshow": {
     "slide_type": "skip"
    }
   },
   "source": [
    "---"
   ]
  },
  {
   "cell_type": "markdown",
   "metadata": {
    "slideshow": {
     "slide_type": "skip"
    }
   },
   "source": [
    "## _ <a class=\"tocSkip\">"
   ]
  },
  {
   "cell_type": "code",
   "execution_count": null,
   "metadata": {
    "ExecuteTime": {
     "end_time": "2019-07-09T06:26:40.795913Z",
     "start_time": "2019-07-09T06:26:40.730785Z"
    },
    "init_cell": true,
    "require": [
     "notebook/js/codecell"
    ],
    "slideshow": {
     "slide_type": "skip"
    }
   },
   "outputs": [],
   "source": [
    "%load_ext autoreload\n",
    "%autoreload 2"
   ]
  },
  {
   "cell_type": "markdown",
   "metadata": {
    "ExecuteTime": {
     "end_time": "2019-06-28T10:17:39.827591Z",
     "start_time": "2019-06-28T10:17:39.819813Z"
    },
    "slideshow": {
     "slide_type": "skip"
    }
   },
   "source": [
    "---"
   ]
  },
  {
   "cell_type": "markdown",
   "metadata": {
    "slideshow": {
     "slide_type": "skip"
    }
   },
   "source": [
    "---"
   ]
  },
  {
   "cell_type": "markdown",
   "metadata": {
    "slideshow": {
     "slide_type": "slide"
    }
   },
   "source": [
    "## Notebook Content\n",
    "\n",
    "For the purposes of this demo, let's pretend that all the notebook source code is actually contained in this section."
   ]
  },
  {
   "cell_type": "code",
   "execution_count": null,
   "metadata": {
    "ExecuteTime": {
     "end_time": "2019-10-01T07:52:36.072083Z",
     "start_time": "2019-10-01T07:52:36.013118Z"
    },
    "require": [
     "notebook/js/codecell"
    ],
    "slideshow": {
     "slide_type": "fragment"
    }
   },
   "outputs": [],
   "source": [
    "import json\n",
    "import sys\n",
    "\n",
    "import pandas as pd\n",
    "import sklearn"
   ]
  },
  {
   "cell_type": "code",
   "execution_count": null,
   "metadata": {
    "ExecuteTime": {
     "end_time": "2019-07-01T06:00:01.286099Z",
     "start_time": "2019-07-01T06:00:01.211Z"
    },
    "slideshow": {
     "slide_type": "fragment"
    }
   },
   "outputs": [],
   "source": [
    "df = pd.read_csv(\"<path>\")\n",
    "df.head()\n",
    "\n",
    "with open(\"requirements.json\") as f:\n",
    "    requirements = json.load(f)\n",
    "\n",
    "try:\n",
    "    ...\n",
    "except Exception as exc:\n",
    "    print(exc, file=sys.stderr)"
   ]
  },
  {
   "cell_type": "markdown",
   "metadata": {
    "slideshow": {
     "slide_type": "skip"
    }
   },
   "source": [
    "---"
   ]
  },
  {
   "cell_type": "markdown",
   "metadata": {
    "slideshow": {
     "slide_type": "slide"
    }
   },
   "source": [
    "## Set notebook requirements\n",
    "\n",
    "<p style=\"text-align: justify; text-justify: inter-word;\">\n",
    "    The goals are in order of operations that we want to perform when setting up the environment.\n",
    "    The first step is to define notebook requirements.\n",
    "</p>\n",
    "\n",
    "<span style=\"font: 18px\"><b>Acceptance Criteria</b></span><br>\n",
    "\n",
    "<p style=\"text-align: justify; text-justify: inter-word;\">\n",
    "    The notebook has requirements embedded in its metadata\n",
    "</p>\n",
    "\n",
    "<span style=\"font: 18px\"><b>How to do it</b></span><br>\n",
    "\n",
    "<p style=\"text-align: justify; text-justify: inter-word;\">\n",
    "    <b>Option 1:</b> There is a cell magic command <code>%%requirements</code> which takes the content of a cell and turns it into notebook requirements.\n",
    "</p>\n",
    "\n",
    "<p style=\"text-align: justify; text-justify: inter-word;\">\n",
    "    <b>Option 2:</b> Load the requirements from an existing Pipfile <code>%requirements -f Pipfile</code>\n",
    "</p>\n",
    "    \n",
    "<p style=\"text-align: justify; text-justify: inter-word;\">\n",
    "    <b>Option 3:</b> Add the dependencies one by one. This is perhaps the most convenient way and provides the finest control: <code>%dep add pandas --version \">=0.24.0\" </code>\n",
    "</p>\n",
    "\n",
    "> The `dep` is an alias to `requirements`\n",
    "\n",
    "<br>\n",
    "        \n",
    "Example 1:\n",
    "\n",
    "    %%requirements\n",
    "\n",
    "    [packages]\n",
    "    ipython = \"*\"\n",
    "    ipykernel = \"*\"\n",
    "\n",
    "    [dev-packages]\n",
    "    autopep8 = \"*\"\n",
    "\n",
    "    [[source]]\n",
    "    name = \"pypi\"\n",
    "    url = \"https://pypi.org/simple\"\n",
    "    verify_ssl = true\n",
    "\n",
    "    [requires]\n",
    "    python_version = \"3.6\""
   ]
  },
  {
   "cell_type": "code",
   "execution_count": null,
   "metadata": {
    "ExecuteTime": {
     "end_time": "2019-10-01T07:57:48.780197Z",
     "start_time": "2019-10-01T07:57:48.692762Z"
    },
    "require": [],
    "slideshow": {
     "slide_type": "subslide"
    }
   },
   "outputs": [],
   "source": [
    "%%requirements\n",
    "\n",
    "[packages]\n",
    "ipython = \"*\"\n",
    "ipykernel = \"*\"\n",
    "\n",
    "[dev-packages]\n",
    "autopep8 = \"*\"\n",
    "\n",
    "[[source]]\n",
    "name = \"pypi\"\n",
    "url = \"https://pypi.org/simple\"\n",
    "verify_ssl = true\n",
    "\n",
    "[requires]\n",
    "python_version = \"3.6\""
   ]
  },
  {
   "cell_type": "code",
   "execution_count": null,
   "metadata": {
    "ExecuteTime": {
     "end_time": "2019-10-01T08:01:23.079778Z",
     "start_time": "2019-10-01T08:01:23.032547Z"
    },
    "require": []
   },
   "outputs": [],
   "source": [
    "%dep add pandas --version \">=0.24.0\""
   ]
  },
  {
   "cell_type": "markdown",
   "metadata": {},
   "source": [
    "> Should you wonder why there is no `%load_ext` before and yet the commands still work, it is because the are autoloaded (the extension loads itself into the notebook context). This is quite useful, because you can simply start your notebook with initial `%dep add` commands and finally `%dep ensure` (see the [last section](#About-the-dep-ensure) of this notebook)."
   ]
  },
  {
   "cell_type": "markdown",
   "metadata": {
    "ExecuteTime": {
     "end_time": "2019-06-27T11:47:58.284082Z",
     "start_time": "2019-06-27T11:47:58.278179Z"
    },
    "slideshow": {
     "slide_type": "skip"
    }
   },
   "source": [
    "---"
   ]
  },
  {
   "cell_type": "markdown",
   "metadata": {
    "slideshow": {
     "slide_type": "slide"
    }
   },
   "source": [
    "## Get notebook requirements\n",
    "\n",
    "<p style=\"text-align: justify; text-justify: inter-word;\">\n",
    "    Now suppose that we've received the notebook from somebody else. We want to check what requirements the notebook has defined and eventually, what are the <i>real</i> notebok requirements.\n",
    "</p>\n",
    "\n",
    "<span style=\"font: 18px\"><b>Acceptance Criteria</b></span><br>\n",
    "\n",
    "<p style=\"text-align: justify; text-justify: inter-word;\">\n",
    "    We can safely check what requirements are defined and which are actually used.\n",
    "</p>\n",
    "\n",
    "<span style=\"font: 18px\"><b>How to do it</b></span><br>\n",
    "\n",
    "<p style=\"text-align: justify; text-justify: inter-word;\">\n",
    "    There is a line magic command <code>%requirements</code> which displays the content of notebok requirements metadata, and if it doesn't exist, it performs static analysis and checks for library usage in the notebook source code.\n",
    "</p>\n",
    "\n",
    "Example:\n",
    "\n",
    "    %requirements  # notice the single % sign\n"
   ]
  },
  {
   "cell_type": "code",
   "execution_count": null,
   "metadata": {
    "ExecuteTime": {
     "end_time": "2019-10-01T08:01:55.934693Z",
     "start_time": "2019-10-01T08:01:55.927495Z"
    },
    "require": [],
    "slideshow": {
     "slide_type": "subslide"
    }
   },
   "outputs": [],
   "source": [
    "%requirements"
   ]
  },
  {
   "cell_type": "markdown",
   "metadata": {
    "slideshow": {
     "slide_type": "fragment"
    }
   },
   "source": [
    "Few remarks about the output that we see above. If you take a look at the [#Code](#Code) section, you'll see that the imports actually look like this:\n",
    "\n",
    "```\n",
    "import json\n",
    "import sys\n",
    "\n",
    "import pandas as pd\n",
    "import sklearn\n",
    "```\n",
    "\n",
    "So why do we *NOT* see all of these requirements in the output?\n",
    "\n",
    "First of all, `json` and `sys` are somewhat special, `json` is a part of **standard library** and `sys` is a **built-in** module. Which means that they don't need to be installed.\n",
    "\n",
    "As far as `sklearn` is concerned, we don't use it in this notebook. That's right, we track not only **imports**, but also the **usage**."
   ]
  },
  {
   "cell_type": "markdown",
   "metadata": {
    "slideshow": {
     "slide_type": "skip"
    }
   },
   "source": [
    "---"
   ]
  },
  {
   "cell_type": "markdown",
   "metadata": {
    "slideshow": {
     "slide_type": "slide"
    }
   },
   "source": [
    "## Generate Thoth config\n",
    "\n",
    "<p style=\"text-align: justify; text-justify: inter-word;\">\n",
    "    Thoth uses configuration file which looks something like this:\n",
    "    \n",
    "    # A remote Thoth service to talk to:\n",
    "    host: stage.thoth-station.ninja\n",
    "\n",
    "    # Configure TLS verification for communication with remote Thoth instance:\n",
    "    tls_verify: true\n",
    "\n",
    "    # Format of requirements file, currently supported is only Pipenv:\n",
    "    requirements_format: pipenv\n",
    "\n",
    "    runtime_environments:\n",
    "      - name: 'fedora:30'\n",
    "        # Operating system for which the recommendations should be created:\n",
    "        operating_system:\n",
    "          name: fedora\n",
    "          version: '30'\n",
    "        # Hardware information for the recommendation engine:\n",
    "        hardware:\n",
    "          # Intel(R) Core(TM) i7-6600U CPU @ 2.60GHz\n",
    "          cpu_family: 6\n",
    "          cpu_model: 78\n",
    "        # Software configuration of runtime environment:\n",
    "        python_version: '3.6'\n",
    "        cuda_version: null\n",
    "        # Recommendation type - one of testing, stable, latest:\n",
    "        recommendation_type: stable\n",
    "        # Number of latest versions considered during advises.\n",
    "        limit_latest_versions: null\n",
    "\n",
    "    #\n",
    "    # Configuration of bots:\n",
    "    #\n",
    "    managers:\n",
    "      - name: pipfile-requirements\n",
    "      - name: info\n",
    "      - name: version\n",
    "        configuration:\n",
    "          # A list of maintainers (GitHub or GitLab accounts) of this repository:\n",
    "          maintainers: []\n",
    "          # A list of assignees to which the opened pull requests and issues should\n",
    "          # be assigned to:\n",
    "          assignees: []\n",
    "          # Labels for issues and pull requests:\n",
    "          labels:\n",
    "            - bot\n",
    "          # Automatically maintain a changelog file stating features of new\n",
    "          # releases:\n",
    "          changelog_file: true\n",
    "</p>\n",
    "<p style=\"text-align: justify; text-justify: inter-word;\">\n",
    "    In order to be able to fully configure Thoth functionality, we would like to be able to simply generate the file.\n",
    "</p>\n",
    "\n",
    "<span style=\"font: 18px\"><b>Acceptance Criteria</b></span><br>\n",
    "\n",
    "<p style=\"text-align: justify; text-justify: inter-word;\">\n",
    "    The <code>.thoth.yaml</code> file has been generated\n",
    "</p>\n",
    "\n",
    "<span style=\"font: 18px\"><b>How to do it</b></span><br>\n",
    "\n",
    "<p style=\"text-align: justify; text-justify: inter-word;\">\n",
    "    There is a subcommand to the <code>%requirements</code> command called <code>config</code>. This generates the default <code>.thoth.yaml</code> config file.\n",
    "</p>\n",
    "    \n",
    "Example:\n",
    "\n",
    "    %requirements config\n"
   ]
  },
  {
   "cell_type": "code",
   "execution_count": null,
   "metadata": {
    "ExecuteTime": {
     "end_time": "2019-10-01T08:02:03.387993Z",
     "start_time": "2019-10-01T08:02:03.232085Z"
    },
    "require": [],
    "slideshow": {
     "slide_type": "subslide"
    }
   },
   "outputs": [],
   "source": [
    "%requirements config --to-file"
   ]
  },
  {
   "cell_type": "markdown",
   "metadata": {
    "ExecuteTime": {
     "end_time": "2019-06-28T09:42:45.518768Z",
     "start_time": "2019-06-28T09:42:45.508657Z"
    },
    "slideshow": {
     "slide_type": "fragment"
    }
   },
   "source": [
    "Now let's leave the config as-is except for a simple change... let's disable `tls_verify` and set `fedora:29` as our operating system."
   ]
  },
  {
   "cell_type": "code",
   "execution_count": null,
   "metadata": {
    "ExecuteTime": {
     "end_time": "2019-07-04T16:17:35.094568Z",
     "start_time": "2019-07-04T16:17:34.702295Z"
    },
    "slideshow": {
     "slide_type": "fragment"
    }
   },
   "outputs": [],
   "source": [
    "# set tls_verify to false\n",
    "!perl -i -pe 's/(?<=tls_verify: )(false|true)/false/' .thoth.yaml\n",
    "# set operating system version to 29\n",
    "!perl -i -pe \"s/(?<=version: )('30')/'29'/\" .thoth.yaml\n",
    "# set name to fedora:29\n",
    "!perl -i -pe \"s/fedora:30/fedora:29/\" .thoth.yaml"
   ]
  },
  {
   "cell_type": "code",
   "execution_count": null,
   "metadata": {
    "ExecuteTime": {
     "end_time": "2019-10-01T07:59:56.578936Z",
     "start_time": "2019-10-01T07:59:56.490151Z"
    },
    "require": [],
    "slideshow": {
     "slide_type": "fragment"
    }
   },
   "outputs": [],
   "source": [
    "%requirements config"
   ]
  },
  {
   "cell_type": "markdown",
   "metadata": {
    "slideshow": {
     "slide_type": "skip"
    }
   },
   "source": [
    "---"
   ]
  },
  {
   "cell_type": "markdown",
   "metadata": {
    "slideshow": {
     "slide_type": "slide"
    }
   },
   "source": [
    "## Generate Pipfile\n",
    "\n",
    "<p style=\"text-align: justify; text-justify: inter-word;\">\n",
    "    Now we're getting to the part in which we want to work with the requirements -- that is, install them -- and in order to do that, we need a manifest file. In our case, it's gonna be the Pipfile.\n",
    "</p>\n",
    "\n",
    "<span style=\"font: 18px\"><b>Acceptance Criteria</b></span><br>\n",
    "\n",
    "<p style=\"text-align: justify; text-justify: inter-word;\">\n",
    "    The <b>Pipfile</b> has been generated from notebook requirements.\n",
    "</p>\n",
    "\n",
    "<span style=\"font: 18px\"><b>How to do it</b></span><br>\n",
    "    The <code>%requirements</code> magic has an option <code>--to-file</code> which outputs the requirements to the Pipfile.\n",
    "\n",
    "<p style=\"text-align: justify; text-justify: inter-word;\">\n",
    "</p>\n",
    "    \n",
    "Example:\n",
    "\n",
    "    %requirements --to-file\n"
   ]
  },
  {
   "cell_type": "markdown",
   "metadata": {
    "slideshow": {
     "slide_type": "subslide"
    }
   },
   "source": [
    "For the purpose of this example -- check that there is no Pipfile present"
   ]
  },
  {
   "cell_type": "code",
   "execution_count": null,
   "metadata": {
    "ExecuteTime": {
     "end_time": "2019-10-01T08:00:10.016456Z",
     "start_time": "2019-10-01T08:00:09.847859Z"
    },
    "slideshow": {
     "slide_type": "fragment"
    }
   },
   "outputs": [],
   "source": [
    "%cat Pipfile"
   ]
  },
  {
   "cell_type": "code",
   "execution_count": null,
   "metadata": {
    "ExecuteTime": {
     "end_time": "2019-10-01T08:02:17.516531Z",
     "start_time": "2019-10-01T08:02:17.498088Z"
    },
    "require": [],
    "slideshow": {
     "slide_type": "fragment"
    }
   },
   "outputs": [],
   "source": [
    "%requirements --to-file"
   ]
  },
  {
   "cell_type": "markdown",
   "metadata": {
    "slideshow": {
     "slide_type": "fragment"
    }
   },
   "source": [
    "And now ..."
   ]
  },
  {
   "cell_type": "code",
   "execution_count": null,
   "metadata": {
    "ExecuteTime": {
     "end_time": "2019-10-01T08:02:26.980605Z",
     "start_time": "2019-10-01T08:02:26.803235Z"
    },
    "slideshow": {
     "slide_type": "fragment"
    }
   },
   "outputs": [],
   "source": [
    "%cat Pipfile"
   ]
  },
  {
   "cell_type": "markdown",
   "metadata": {
    "slideshow": {
     "slide_type": "skip"
    }
   },
   "source": [
    "---"
   ]
  },
  {
   "cell_type": "markdown",
   "metadata": {
    "slideshow": {
     "slide_type": "slide"
    }
   },
   "source": [
    "## Lock down dependencies\n",
    "\n",
    "<p style=\"text-align: justify; text-justify: inter-word;\">\n",
    "Here we're getting to the core part. We want to resolve the software stack and lock down dependencies so that the software stack is <i>thoth-optimal</i>. \n",
    "</p>\n",
    "\n",
    "<span style=\"font: 18px\"><b>Acceptance Criteria</b></span><br>\n",
    "\n",
    "<p style=\"text-align: justify; text-justify: inter-word;\">\n",
    "    The Pipfile.lock has been generated using Thoth adviser API.\n",
    "</p>\n",
    "\n",
    "<span style=\"font: 18px\"><b>How to do it</b></span><br>\n",
    "\n",
    "\n",
    "<p style=\"text-align: justify; text-justify: inter-word;\">\n",
    "    The <code>%requirements</code> magic has a subcommand <code>lock</code> which takes an optional parameter <code style=\"white-space: nowrap;\">--engine</code></span>. It triggers an analysis in <i>thoth-backend-stage</i> namespace and outputs the resolved software stack with locked down dependencies to the <b>Pipfile.lock</b>.\n",
    "    \n",
    "    NOTE: Engine can be set to `pipenv` in case pipenv should be used to resolve the dependencies instead of the Thoth resolution engine.\n",
    "</p>\n",
    "    \n",
    "Example:\n",
    "\n",
    "    %requirements lock\n",
    "    "
   ]
  },
  {
   "cell_type": "markdown",
   "metadata": {},
   "source": [
    "Once again, check that Pipfile.lock is not present"
   ]
  },
  {
   "cell_type": "code",
   "execution_count": null,
   "metadata": {
    "ExecuteTime": {
     "end_time": "2019-07-09T06:35:17.007240Z",
     "start_time": "2019-07-09T06:35:16.813415Z"
    }
   },
   "outputs": [],
   "source": [
    "%cat Pipfile.lock"
   ]
  },
  {
   "cell_type": "markdown",
   "metadata": {},
   "source": [
    "And also ignore the notebook metadata, just in case the developer also locked requirements (and remember, he had a tough night...)"
   ]
  },
  {
   "cell_type": "code",
   "execution_count": null,
   "metadata": {
    "ExecuteTime": {
     "end_time": "2019-10-01T08:02:43.780808Z",
     "start_time": "2019-10-01T08:02:43.727405Z"
    },
    "require": [],
    "slideshow": {
     "slide_type": "subslide"
    }
   },
   "outputs": [],
   "source": [
    "%dep lock --help"
   ]
  },
  {
   "cell_type": "markdown",
   "metadata": {
    "slideshow": {
     "slide_type": "fragment"
    }
   },
   "source": [
    "The requirements are cached, so when we want to output them to a file, we don't need to go through the analysis again."
   ]
  },
  {
   "cell_type": "code",
   "execution_count": null,
   "metadata": {
    "ExecuteTime": {
     "end_time": "2019-10-01T08:07:59.290819Z",
     "start_time": "2019-10-01T08:07:50.682970Z"
    },
    "require": [],
    "scrolled": true,
    "slideshow": {
     "slide_type": "fragment"
    }
   },
   "outputs": [],
   "source": [
    "%dep lock --engine pipenv"
   ]
  },
  {
   "cell_type": "markdown",
   "metadata": {
    "slideshow": {
     "slide_type": "skip"
    }
   },
   "source": [
    "---"
   ]
  },
  {
   "cell_type": "markdown",
   "metadata": {
    "slideshow": {
     "slide_type": "slide"
    }
   },
   "source": [
    "## Install dependencies into virtual environment\n",
    "\n",
    "<p style=\"text-align: justify; text-justify: inter-word;\">\n",
    "</p>\n",
    "\n",
    "<span style=\"font: 18px\"><b>Acceptance Criteria</b></span><br>\n",
    "\n",
    "<p style=\"text-align: justify; text-justify: inter-word;\">\n",
    "</p>\n",
    "\n",
    "<span style=\"font: 18px\"><b>How to do it</b></span><br>\n",
    "\n",
    "<p style=\"text-align: justify; text-justify: inter-word;\">\n",
    "</p>\n",
    "    \n",
    "Example:\n",
    "\n",
    "    %requirements install\n"
   ]
  },
  {
   "cell_type": "code",
   "execution_count": null,
   "metadata": {
    "ExecuteTime": {
     "end_time": "2019-10-01T08:09:06.451294Z",
     "start_time": "2019-10-01T08:09:06.410786Z"
    },
    "require": [],
    "slideshow": {
     "slide_type": "subslide"
    }
   },
   "outputs": [],
   "source": [
    "%dep install"
   ]
  },
  {
   "cell_type": "markdown",
   "metadata": {
    "slideshow": {
     "slide_type": "skip"
    }
   },
   "source": [
    "---"
   ]
  },
  {
   "cell_type": "markdown",
   "metadata": {
    "slideshow": {
     "slide_type": "slide"
    }
   },
   "source": [
    "## Install and set a new Jupyter kernel\n",
    "\n",
    "<p style=\"text-align: justify; text-justify: inter-word;\">\n",
    "</p>\n",
    "\n",
    "<span style=\"font: 18px\"><b>Acceptance Criteria</b></span><br>\n",
    "\n",
    "<p style=\"text-align: justify; text-justify: inter-word;\">\n",
    "</p>\n",
    "\n",
    "<span style=\"font: 18px\"><b>How to do it</b></span><br>\n",
    "\n",
    "<p style=\"text-align: justify; text-justify: inter-word;\">\n",
    "    \n",
    "</p>\n",
    "    \n",
    "Example:\n",
    "    \n",
    "    %kernel install [name]\n",
    "    \n",
    "    # if we want to also set a kernel\n",
    "    # by default, this assumes a kernel matching the name of your notebook,\n",
    "    # optionally you can provide custom name of an existing kernelspec\n",
    "    %requirements kernel set [name]\n"
   ]
  },
  {
   "cell_type": "markdown",
   "metadata": {
    "slideshow": {
     "slide_type": "subslide"
    }
   },
   "source": [
    "Lets check our current kernel specification"
   ]
  },
  {
   "cell_type": "code",
   "execution_count": null,
   "metadata": {
    "ExecuteTime": {
     "end_time": "2019-07-03T12:22:23.099834Z",
     "start_time": "2019-07-03T12:22:23.051230Z"
    },
    "require": [],
    "slideshow": {
     "slide_type": "fragment"
    }
   },
   "outputs": [],
   "source": [
    "%kernel"
   ]
  },
  {
   "cell_type": "markdown",
   "metadata": {
    "slideshow": {
     "slide_type": "fragment"
    }
   },
   "source": [
    "Now install the new kernel from the notebook requirements"
   ]
  },
  {
   "cell_type": "code",
   "execution_count": null,
   "metadata": {
    "slideshow": {
     "slide_type": "fragment"
    }
   },
   "outputs": [],
   "source": [
    "%kernel install"
   ]
  },
  {
   "cell_type": "markdown",
   "metadata": {
    "slideshow": {
     "slide_type": "slide"
    }
   },
   "source": [
    "And at the very end of this demo ... set the new Jupyter kernel.\n",
    "\n",
    "First check out the current kernel spec (again, just to demonstrate that there is no `example` kernel present)\n",
    "\n",
    "> HINT: The kernels are located at the toolbar menu: *Kernel* -> *Change kernel*\n",
    "\n",
    "If it is the case and there is already such kernel, feel free to provide custom kernel name by `%requirements kernel set <name>`\n",
    "\n",
    "> WARNING: After you issue this command, you're gonna have a fresh kernel ready, so don't expect your variables or imports to be present"
   ]
  },
  {
   "cell_type": "code",
   "execution_count": null,
   "metadata": {
    "slideshow": {
     "slide_type": "fragment"
    }
   },
   "outputs": [],
   "source": [
    "%kernel set"
   ]
  },
  {
   "cell_type": "markdown",
   "metadata": {
    "slideshow": {
     "slide_type": "fragment"
    }
   },
   "source": [
    "Remember the error that we got about `pandas` library not being present?"
   ]
  },
  {
   "cell_type": "code",
   "execution_count": null,
   "metadata": {
    "ExecuteTime": {
     "end_time": "2019-07-03T12:42:34.081615Z",
     "start_time": "2019-07-03T12:42:34.062961Z"
    },
    "code_folding": [
     5,
     15
    ],
    "slideshow": {
     "slide_type": "fragment"
    }
   },
   "outputs": [],
   "source": [
    "from IPython.core.display import HTML\n",
    "\n",
    "try:\n",
    "    import pandas as pd  # <--- This was not possible before\n",
    "    \n",
    "    display(HTML(\"\"\"\n",
    "        <br>\n",
    "        <div style=\"display: grid\">\n",
    "            <img style=\"margin: 0 auto;\" src=\"/static/base/images/logo.png?v=641991992878ee24c6f3826e81054a0f\" alt=\"Jupyter Notebook\">\n",
    "        </div>\n",
    "        <hr>\n",
    "        <center><p style=\"text-align: center; font-size: 21px\"> Thank you for your attention! </p></center>\n",
    "    \"\"\"))\n",
    "except:\n",
    "    \n",
    "    display(HTML(\"\"\"\n",
    "        <br>\n",
    "        <div style=\"display: grid\">\n",
    "            <i class=\"fas fa-ban\" style=\"margin: 0 auto; font-size: 80px; color: red;\"></i>\n",
    "        </div>\n",
    "        <hr>\n",
    "        <center><p style=\"text-align: center; font-size: 21px\"> Time to blame the QA... </p></center>\n",
    "    \"\"\"))"
   ]
  },
  {
   "cell_type": "markdown",
   "metadata": {},
   "source": [
    "## About the `dep ensure`\n",
    "\n",
    "This notebook has demonstrated plenty of commands (and yet not nearly all of them), which was its purpose. However, in the real environment, you probably don't want to execute all of the commands mentioned. You want to have a *single* directive which does all the hard stuff for you.\n",
    "\n",
    "That's what the `%dep ensure` command is for. Once you have your dependencies added with the `%dep add` command, just run `%dep ensure` (see `%dep ensure --help` for more info). "
   ]
  },
  {
   "cell_type": "code",
   "execution_count": null,
   "metadata": {
    "ExecuteTime": {
     "end_time": "2019-10-01T08:14:47.258299Z",
     "start_time": "2019-10-01T08:14:47.234920Z"
    }
   },
   "outputs": [],
   "source": [
    "%dep ensure --help"
   ]
  }
 ],
 "metadata": {
  "celltoolbar": "Initialization Cell",
  "finalized": {
   "timestamp": 1562154687748,
   "trusted": true
  },
  "hide_input": false,
  "kernelspec": {
   "display_name": "jupyter-nbrequirements",
   "language": "python",
   "name": "jupyter-nbrequirements"
  },
  "language_info": {
   "codemirror_mode": {
    "name": "ipython",
    "version": 3
   },
   "file_extension": ".py",
   "mimetype": "text/x-python",
   "name": "python",
   "nbconvert_exporter": "python",
   "pygments_lexer": "ipython3",
   "version": "3.6.8"
  },
  "requirements": {
   "dev-packages": {},
   "packages": {
    "ipython": "*",
    "pandas": ">=0.24.0"
   },
   "requires": {
    "python_version": "3.6"
   },
   "sources": [
    {
     "name": "pypi",
     "url": "https://pypi.org/simple",
     "verify_ssl": true
    }
   ]
  },
  "toc": {
   "base_numbering": 1,
   "nav_menu": {
    "height": "115.99px",
    "width": "301.927px"
   },
   "number_sections": true,
   "sideBar": true,
   "skip_h1_title": true,
   "title_cell": "Table of Contents",
   "title_sidebar": "Contents",
   "toc_cell": true,
   "toc_position": {
    "height": "calc(100% - 180px)",
    "left": "10px",
    "top": "150px",
    "width": "180px"
   },
   "toc_section_display": true,
   "toc_window_display": false
  }
 },
 "nbformat": 4,
 "nbformat_minor": 2
}
