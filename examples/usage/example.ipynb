{
 "cells": [
  {
   "cell_type": "markdown",
   "metadata": {
    "slideshow": {
     "slide_type": "slide"
    }
   },
   "source": [
    "# jupyter-nbrequirements\n",
    "\n",
    "<p style=\"font: 30px; text-transform: uppercase;\">\n",
    "    Jupyter Notebook dependency resolution and environment setup\n",
    "</p>\n",
    "\n",
    "---\n",
    "\n",
    "<span style=\"font: 18px\"><b>Description</b></span><br>\n",
    "\n",
    "<p style=\"text-align: justify; text-justify: inter-word;\">\n",
    "    This is an e2e pipeline from a single Jupyter notebook to fully set-up virtual environment ready to run the notebook.\n",
    "    We're gonna demonstrate the whole functionality starting with setting notebook requirements, through Thoth configuration and dependency resolution to creating a complete virtual environment and setting a new Jupyter kernel.\n",
    "    Hold tight. \n",
    "</p>\n",
    "\n",
    "<span style=\"font: 18px\"><b>Goal</b></span><br>\n",
    "\n",
    "<p style=\"text-align: justify; text-justify: inter-word;\">\n",
    "    Run all cells in the notebook.\n",
    "</p>"
   ]
  },
  {
   "cell_type": "markdown",
   "metadata": {
    "slideshow": {
     "slide_type": "skip"
    },
    "toc": true
   },
   "source": [
    "<h1>Table of Contents<span class=\"tocSkip\"></span></h1>\n",
    "<div class=\"toc\"><ul class=\"toc-item\"><li><span><a href=\"#_\" data-toc-modified-id=\"_-1\"><span class=\"toc-item-num\">1&nbsp;&nbsp;</span>_</a></span></li><li><span><a href=\"#Notebook-Content\" data-toc-modified-id=\"Notebook-Content-2\"><span class=\"toc-item-num\">2&nbsp;&nbsp;</span>Notebook Content</a></span></li><li><span><a href=\"#Set-notebook-requirements\" data-toc-modified-id=\"Set-notebook-requirements-3\"><span class=\"toc-item-num\">3&nbsp;&nbsp;</span>Set notebook requirements</a></span></li><li><span><a href=\"#Get-notebook-requirements\" data-toc-modified-id=\"Get-notebook-requirements-4\"><span class=\"toc-item-num\">4&nbsp;&nbsp;</span>Get notebook requirements</a></span></li><li><span><a href=\"#Generate-Thoth-config\" data-toc-modified-id=\"Generate-Thoth-config-5\"><span class=\"toc-item-num\">5&nbsp;&nbsp;</span>Generate Thoth config</a></span></li><li><span><a href=\"#Generate-Pipfile\" data-toc-modified-id=\"Generate-Pipfile-6\"><span class=\"toc-item-num\">6&nbsp;&nbsp;</span>Generate Pipfile</a></span></li><li><span><a href=\"#Lock-down-dependencies\" data-toc-modified-id=\"Lock-down-dependencies-7\"><span class=\"toc-item-num\">7&nbsp;&nbsp;</span>Lock down dependencies</a></span></li><li><span><a href=\"#Install-dependencies-into-virtual-environment\" data-toc-modified-id=\"Install-dependencies-into-virtual-environment-8\"><span class=\"toc-item-num\">8&nbsp;&nbsp;</span>Install dependencies into virtual environment</a></span></li><li><span><a href=\"#Install-and-set-a-new-Jupyter-kernel\" data-toc-modified-id=\"Install-and-set-a-new-Jupyter-kernel-9\"><span class=\"toc-item-num\">9&nbsp;&nbsp;</span>Install and set a new Jupyter kernel</a></span></li></ul></div>"
   ]
  },
  {
   "cell_type": "markdown",
   "metadata": {
    "slideshow": {
     "slide_type": "skip"
    }
   },
   "source": [
    "---"
   ]
  },
  {
   "cell_type": "markdown",
   "metadata": {
    "slideshow": {
     "slide_type": "skip"
    }
   },
   "source": [
    "## _"
   ]
  },
  {
   "cell_type": "code",
   "execution_count": 1,
   "metadata": {
    "ExecuteTime": {
     "end_time": "2019-07-09T06:26:40.795913Z",
     "start_time": "2019-07-09T06:26:40.730785Z"
    },
    "init_cell": true,
    "require": [
     "notebook/js/codecell"
    ],
    "slideshow": {
     "slide_type": "skip"
    }
   },
   "outputs": [],
   "source": [
    "%load_ext autoreload\n",
    "%autoreload 2"
   ]
  },
  {
   "cell_type": "code",
   "execution_count": 2,
   "metadata": {
    "ExecuteTime": {
     "end_time": "2019-07-09T06:26:42.068552Z",
     "start_time": "2019-07-09T06:26:40.803826Z"
    },
    "init_cell": true,
    "require": [
     "notebook/js/codecell"
    ],
    "slideshow": {
     "slide_type": "skip"
    }
   },
   "outputs": [
    {
     "data": {
      "application/javascript": [
       "{ \n",
       "        'use strict';\n",
       "        \n",
       "        const href = \"https://use.fontawesome.com/releases/v5.8.1/css/all.css\";\n",
       "        const attributes = {'integrity': 'sha384-50oBUHEmvpQ+1lW4y57PTFmhCaXp0ML5d60M1M7uH2+nqUivzIebhndOJK28anvf', 'crossorigin': 'anonymous'} || {};\n",
       "\n",
       "        if ( !$(`link[href*=\"${href}\"]`).length ) {\n",
       "            let link = document.createElement(\"link\");\n",
       "\n",
       "            link.rel = \"stylesheet\";\n",
       "            link.type = \"text/css\";\n",
       "            try {\n",
       "                link.href = requirejs.toUrl(href, 'css');\n",
       "            } catch (error) {\n",
       "                link.href = href;\n",
       "            }\n",
       "            \n",
       "            Object.entries(attributes)\n",
       "                .forEach( ([attr, val]) => $(link).attr(attr, val) );\n",
       "            \n",
       "            document.head.appendChild(link);\n",
       "        }\n",
       "     }"
      ],
      "text/plain": [
       "<JupyterRequire.display.SafeScript object>"
      ]
     },
     "metadata": {
      "finalized": true
     },
     "output_type": "display_data"
    },
    {
     "data": {},
     "metadata": {
      "display": {
       "element": {
        "0": {},
        "length": 1
       }
      },
      "finalized": false,
      "frozen": true,
      "frozen_output": {}
     },
     "output_type": "display_data"
    },
    {
     "data": {
      "application/javascript": [
       "{ \n",
       "        'use strict';\n",
       "        \n",
       "        const href = \"https://use.fontawesome.com/releases/v5.8.1/css/all.css\";\n",
       "        const attributes = {'integrity': 'sha384-50oBUHEmvpQ+1lW4y57PTFmhCaXp0ML5d60M1M7uH2+nqUivzIebhndOJK28anvf', 'crossorigin': 'anonymous'} || {};\n",
       "\n",
       "        if ( !$(`link[href*=\"${href}\"]`).length ) {\n",
       "            let link = document.createElement(\"link\");\n",
       "\n",
       "            link.rel = \"stylesheet\";\n",
       "            link.type = \"text/css\";\n",
       "            try {\n",
       "                link.href = requirejs.toUrl(href, 'css');\n",
       "            } catch (error) {\n",
       "                link.href = href;\n",
       "            }\n",
       "            \n",
       "            Object.entries(attributes)\n",
       "                .forEach( ([attr, val]) => $(link).attr(attr, val) );\n",
       "            \n",
       "            document.head.appendChild(link);\n",
       "        }\n",
       "     }"
      ],
      "text/plain": [
       "<JupyterRequire.display.SafeScript object>"
      ]
     },
     "metadata": {
      "finalized": true
     },
     "output_type": "display_data"
    },
    {
     "data": {},
     "metadata": {
      "display": {
       "element": {
        "0": {},
        "length": 1
       }
      },
      "finalized": false,
      "frozen": true,
      "frozen_output": {}
     },
     "output_type": "display_data"
    }
   ],
   "source": [
    "%load_ext jupyter_require"
   ]
  },
  {
   "cell_type": "markdown",
   "metadata": {
    "ExecuteTime": {
     "end_time": "2019-06-28T10:17:39.827591Z",
     "start_time": "2019-06-28T10:17:39.819813Z"
    },
    "slideshow": {
     "slide_type": "skip"
    }
   },
   "source": [
    "---"
   ]
  },
  {
   "cell_type": "code",
   "execution_count": 3,
   "metadata": {
    "ExecuteTime": {
     "end_time": "2019-07-09T06:26:42.083223Z",
     "start_time": "2019-07-09T06:26:42.071555Z"
    },
    "init_cell": true,
    "require": [
     ""
    ],
    "slideshow": {
     "slide_type": "skip"
    }
   },
   "outputs": [
    {
     "data": {},
     "metadata": {
      "display": {
       "element": {
        "0": {},
        "length": 1
       }
      },
      "finalized": false,
      "frozen": true,
      "frozen_output": {}
     },
     "output_type": "display_data"
    }
   ],
   "source": [
    "%%requirejs\n",
    "\n",
    "display = function (s, output) {\n",
    "    output.append(`<pre>${JSON.stringify(s, null, 2)}</pre>`)\n",
    "}"
   ]
  },
  {
   "cell_type": "code",
   "execution_count": 4,
   "metadata": {
    "ExecuteTime": {
     "end_time": "2019-07-09T06:26:42.097984Z",
     "start_time": "2019-07-09T06:26:42.085900Z"
    },
    "code_folding": [],
    "init_cell": true,
    "require": [
     ""
    ],
    "slideshow": {
     "slide_type": "skip"
    }
   },
   "outputs": [
    {
     "data": {},
     "metadata": {
      "display": {
       "element": {
        "0": {},
        "length": 1
       }
      },
      "finalized": false,
      "frozen": true,
      "frozen_output": {}
     },
     "output_type": "display_data"
    }
   ],
   "source": [
    "%%requirejs\n",
    "\n",
    "execute_request = function(request, callbacks, options, context) {\n",
    "    return new Promise( resolve => {\n",
    "        const default_options = {\n",
    "            silent: false,\n",
    "            store_history: true,\n",
    "            stop_on_error: true\n",
    "        }\n",
    "\n",
    "        if (_.isUndefined(context)) {\n",
    "            context = {\n",
    "                cell: Jupyter.notebook.get_executed_cell()\n",
    "            }\n",
    "        }\n",
    "\n",
    "        let cell = context.cell\n",
    "\n",
    "        options   = _.assign(default_options, options)\n",
    "        callbacks = _.assign(cell.get_callbacks(), callbacks || {})\n",
    "\n",
    "        let kernel = Jupyter.notebook.kernel\n",
    "\n",
    "        console.debug(`Executing shell request:\\n${request}\\n\\twith callbacks: `, callbacks)\n",
    "\n",
    "        const msg_id = kernel.execute(request, callbacks, options)\n",
    "        \n",
    "        kernel.events.on(\"finished_iopub.Kernel\", (e, d) => {\n",
    "            if ( d.msg_id === msg_id ) {\n",
    "                resolve()\n",
    "            }\n",
    "        })\n",
    "    })\n",
    "}\n",
    "    \n",
    "\n",
    "execute_shell_command = function(command, callbacks, options, context) {\n",
    "    \n",
    "    return execute_request(`!${command}`, callbacks, options, context)\n",
    "}\n",
    "\n",
    "execute_shell_script = function(command, callbacks, options, context) {\n",
    "    \n",
    "    return execute_request(`%%bash\\n${command}`, callbacks, options, context)\n",
    "}\n",
    "\n",
    "execute_python_script = function(script, callbacks, options, context) {\n",
    "    \n",
    "    return execute_request(`${script}`, callbacks, options, context)\n",
    "}"
   ]
  },
  {
   "cell_type": "code",
   "execution_count": 5,
   "metadata": {
    "ExecuteTime": {
     "end_time": "2019-07-09T06:26:42.110957Z",
     "start_time": "2019-07-09T06:26:42.100187Z"
    },
    "code_folding": [
     2,
     48
    ],
    "init_cell": true,
    "require": [
     ""
    ],
    "slideshow": {
     "slide_type": "skip"
    }
   },
   "outputs": [
    {
     "data": {},
     "metadata": {
      "display": {
       "element": {
        "0": {},
        "length": 1
       }
      },
      "finalized": false,
      "frozen": true,
      "frozen_output": {}
     },
     "output_type": "display_data"
    }
   ],
   "source": [
    "%%requirejs\n",
    "\n",
    "dedent = function (strings, ...values) {\n",
    "  const raw = typeof strings === \"string\" ? [strings] : strings.raw;\n",
    "\n",
    "  // first, perform interpolation\n",
    "  let result = \"\";\n",
    "  for (let i = 0; i < raw.length; i++) {\n",
    "    result += raw[i]\n",
    "      // join lines when there is a suppressed newline\n",
    "      .replace(/\\\\\\n[ \\t]*/g, \"\")\n",
    "      // handle escaped backticks\n",
    "      .replace(/\\\\`/g, \"`\");\n",
    "\n",
    "    if (i < values.length) {\n",
    "      result += values[i];\n",
    "    }\n",
    "  }\n",
    "\n",
    "  // now strip indentation\n",
    "  const lines = result.split(\"\\n\");\n",
    "    \n",
    "  let mindent = null;\n",
    "  lines.forEach(l => {\n",
    "    let m = l.match(/^(\\s+)\\S+/);\n",
    "    if (m) {\n",
    "      let indent = m[1].length;\n",
    "      if (!mindent) {\n",
    "        // this is the first indented line\n",
    "        mindent = indent;\n",
    "      } else {\n",
    "        mindent = Math.min(mindent, indent);\n",
    "      }\n",
    "    }\n",
    "  });\n",
    "\n",
    "  if (mindent !== null) {\n",
    "    const m = mindent; // appease Flow\n",
    "    result = lines.map(l => l[0] === \" \" ? l.slice(m) : l).join(\"\\n\");\n",
    "  }\n",
    "\n",
    "  return result\n",
    "    // dedent eats leading and trailing whitespace too\n",
    "    .trim()\n",
    "    // handle escaped newlines at the end to ensure they don't get stripped too\n",
    "    .replace(/\\\\n/g, \"\\n\");\n",
    "}\n",
    "\n",
    "indent = function(text, indent=4) {\n",
    "    const indentation = \" \".repeat(indent)\n",
    "    \n",
    "    return text\n",
    "        .split(\"\\n\")\n",
    "        .map((line) => `${indentation}${line}`)\n",
    "        .join(\"\\n\")\n",
    "}"
   ]
  },
  {
   "cell_type": "code",
   "execution_count": 6,
   "metadata": {
    "ExecuteTime": {
     "end_time": "2019-07-09T06:26:42.124320Z",
     "start_time": "2019-07-09T06:26:42.113709Z"
    },
    "code_folding": [
     11,
     31
    ],
    "init_cell": true,
    "require": [
     ""
    ],
    "slideshow": {
     "slide_type": "skip"
    }
   },
   "outputs": [
    {
     "data": {},
     "metadata": {
      "display": {
       "element": {
        "0": {},
        "length": 1
       }
      },
      "finalized": false,
      "frozen": true,
      "frozen_output": {}
     },
     "output_type": "display_data"
    }
   ],
   "source": [
    "%%requirejs\n",
    "\n",
    "/**\n",
    " * Representation of source (Python index) for Python packages.\n",
    " */\n",
    "Source = function(\n",
    "    name =  \"pypi\",\n",
    "    url  =  \"https://pypi.org/simple\",\n",
    "    verify_ssl = true,\n",
    "    warehouse,\n",
    "    warehouse_api_url\n",
    ") {\n",
    "    this.name = name\n",
    "    this.url  = url\n",
    "    this.verify_ssl = verify_ssl\n",
    "    this.warehouse = warehouse\n",
    "    this.warehouse_api_url = warehouse_api_url\n",
    "}\n",
    "\n",
    "/**\n",
    " * Generate Pipfile entry for the given package.\n",
    " */\n",
    "PackageVersion = function (\n",
    "    name,\n",
    "    version = \"*\",\n",
    "    develop = false,\n",
    "    index,\n",
    "    hashes,\n",
    "    markers,\n",
    "    semantic_version,\n",
    "    version_spec\n",
    ") {\n",
    "    this.name = name\n",
    "    this.version = version\n",
    "    this.develop = develop\n",
    "    this.index   = index\n",
    "    this.hashes  = hashes\n",
    "    this.markers = markers\n",
    "    this.semantic_version = semantic_version\n",
    "    this.version_spec = version_spec\n",
    "    \n",
    "    this.to_pipfile = function() {\n",
    "        let result = {}\n",
    "        \n",
    "        console.log(\"Generating Pipfile entry for package: \", this.name)\n",
    "\n",
    "        if ( !_.isUndefined(this.index) )\n",
    "            result[\"index\"] = this.index.name\n",
    "\n",
    "        if ( !_.isUndefined(this.markers) )\n",
    "            result[\"markers\"] = this.markers\n",
    "\n",
    "        if ( _.isEmpty(result) ) {\n",
    "            // Only version information is available.\n",
    "            return { [this.name]: this.version }\n",
    "        }\n",
    "\n",
    "        result[\"version\"] = this.version\n",
    "        \n",
    "        return { [this.name]: result }\n",
    "    }\n",
    "}\n",
    "\n",
    "\n",
    "/**\n",
    " * Parse meta information stored in Pipfile or Pipfile.lock.\n",
    " */\n",
    "Pipfile = function(packages = [], dev_packages = [], meta) {\n",
    "    this.packages = packages\n",
    "    this.dev_packages = dev_packages\n",
    "    this.meta = meta\n",
    "}"
   ]
  },
  {
   "cell_type": "code",
   "execution_count": 7,
   "metadata": {
    "ExecuteTime": {
     "end_time": "2019-07-09T06:26:42.139629Z",
     "start_time": "2019-07-09T06:26:42.126334Z"
    },
    "code_folding": [],
    "init_cell": true,
    "require": [
     ""
    ],
    "slideshow": {
     "slide_type": "skip"
    }
   },
   "outputs": [
    {
     "data": {},
     "metadata": {
      "display": {
       "element": {
        "0": {},
        "length": 1
       }
      },
      "finalized": false,
      "frozen": true,
      "frozen_output": {}
     },
     "output_type": "display_data"
    }
   ],
   "source": [
    "%%requirejs\n",
    "\n",
    "DEFAULT_PYTHON_INDENT = 4\n",
    "\n",
    "gather_library_usage = function (cells) {\n",
    "    return new Promise(async (resolve) => {\n",
    "\n",
    "        cells = cells || Jupyter.notebook.toJSON().cells\n",
    "\n",
    "        console.log(\"Gathering requirements from cells, \", cells)\n",
    "\n",
    "        cells.forEach( (c, i, a) => {\n",
    "            const source = c.source\n",
    "                .trim()\n",
    "                .replace(\"?\", \"\")  // remove Jupyter magic to display help\n",
    "                .replace(/^[%!]{1}[^%]{1}.*$/gm, \"\\n\")  // remove lines starting with single % or !\n",
    "                .replace(/^\\s*\\n/gm, \"\")     // remove empty lines\n",
    "\n",
    "            c.source = source\n",
    "        })\n",
    "\n",
    "        cells = cells.filter( c => (c.cell_type === \"code\") && (!c.source.startsWith(\"%%\")) )\n",
    "\n",
    "        let kernel = Jupyter.notebook.kernel\n",
    "        \n",
    "        notebook_content = cells.map(c => c.source).join(\"\\n\")\n",
    "        notebook_content = indent(notebook_content, DEFAULT_PYTHON_INDENT * 3)\n",
    "\n",
    "        console.debug(\"Notebook content: \", notebook_content)\n",
    "\n",
    "        script = dedent(`\n",
    "            import ast\n",
    "            import distutils\n",
    "\n",
    "            from pathlib import Path\n",
    "            from invectio.lib import InvectioVisitor\n",
    "\n",
    "            _STD_LIB_PATH = Path(distutils.sysconfig.get_python_lib(standard_lib=True))\n",
    "            _STD_LIB = {p.name.rstrip(\".py\") for p in _STD_LIB_PATH.iterdir()}\n",
    "\n",
    "            ast = ast.parse('''\n",
    "            ${notebook_content}\n",
    "            ''')\n",
    "\n",
    "            visitor = InvectioVisitor()\n",
    "            visitor.visit(ast)\n",
    "\n",
    "            report = visitor.get_module_report()\n",
    "\n",
    "            libs = filter(\n",
    "                lambda k: k not in _STD_LIB | set(sys.builtin_module_names), report\n",
    "            )\n",
    "\n",
    "            list(libs)\n",
    "        `)\n",
    "\n",
    "\n",
    "        let callback = (msg) => {\n",
    "            console.debug(\"Execution callback: \", msg)\n",
    "            if (msg.msg_type === \"error\") {\n",
    "                throw new Error(`Script execution error: ${msg.content.ename}: ${msg.content.evalue}`)\n",
    "            }\n",
    "            \n",
    "            if (msg.msg_type === \"stream\") {\n",
    "                console.log(msg.content.text)\n",
    "            }\n",
    "            else if ( msg.msg_type === \"execute_result\" ) {\n",
    "                \n",
    "                const result = msg.content.data[\"text/plain\"].replace(/\\'/g, '\"')\n",
    "                const requirements = JSON.parse(result)\n",
    "\n",
    "                resolve(requirements)\n",
    "            }\n",
    "        }\n",
    "\n",
    "        await execute_python_script(script, {iopub: {output: callback}})\n",
    "    })\n",
    "}"
   ]
  },
  {
   "cell_type": "code",
   "execution_count": 8,
   "metadata": {
    "ExecuteTime": {
     "end_time": "2019-07-09T06:26:42.155797Z",
     "start_time": "2019-07-09T06:26:42.143652Z"
    },
    "code_folding": [],
    "init_cell": true,
    "require": [
     ""
    ],
    "slideshow": {
     "slide_type": "skip"
    }
   },
   "outputs": [
    {
     "data": {},
     "metadata": {
      "display": {
       "element": {
        "0": {},
        "length": 1
       }
      },
      "finalized": false,
      "frozen": true,
      "frozen_output": {}
     },
     "output_type": "display_data"
    }
   ],
   "source": [
    "%%requirejs\n",
    "\n",
    "Notebook = require(\"base/js/namespace\").Notebook\n",
    "\n",
    "\n",
    "Notebook.prototype.set_requirements = function(requirements, overwrite = true) {\n",
    "    let metadata = Jupyter.notebook.metadata\n",
    "    \n",
    "    if ( _.isUndefined(metadata.requirements) || overwrite ) {\n",
    "        metadata.requirements = requirements\n",
    "    } else {\n",
    "        console.debug(\"Requirements already exist. Updating.\")\n",
    "        // update the notebook metadata\n",
    "        _.assign(metadata.requirements, requirements)\n",
    "    }\n",
    "        \n",
    "    console.log(\"Notebook requirements have been set successfully.\")\n",
    "}\n",
    "\n",
    "\n",
    "Notebook.prototype.get_requirements = function(ignore_metadata = false) {\n",
    "    return new Promise(async (resolve) => {\n",
    "        console.log(\"Reading notebook requirements.\")\n",
    "        \n",
    "        let requirements = Jupyter.notebook.metadata.requirements\n",
    "\n",
    "        if ( _.isUndefined(requirements) || ignore_metadata ) {\n",
    "            console.log(\"Requirements are not defined.\")\n",
    "\n",
    "            requirements = gather_library_usage()\n",
    "                .then((r) => {\n",
    "                    let packages = {}\n",
    "                    \n",
    "                    r.forEach((p) => {\n",
    "                        let package = new PackageVersion(p.toLocaleLowerCase())\n",
    "                        \n",
    "                        _.assign(packages, package.to_pipfile())\n",
    "                    })\n",
    "                \n",
    "                    let kernel = Jupyter.notebook.kernel\n",
    "                    let language_info = kernel.info_reply.language_info\n",
    "\n",
    "                    const python_version = language_info.version\n",
    "                    const requires = { python_version: python_version.match(/\\d.\\d/)[0] }\n",
    "\n",
    "                    return { packages: packages, requires: requires, source: [new Source()]}\n",
    "                })\n",
    "                .catch(console.error)\n",
    "            \n",
    "            resolve(requirements)\n",
    "        }\n",
    "\n",
    "        resolve(requirements)\n",
    "    })\n",
    "}"
   ]
  },
  {
   "cell_type": "code",
   "execution_count": 9,
   "metadata": {
    "ExecuteTime": {
     "end_time": "2019-07-09T06:26:42.167873Z",
     "start_time": "2019-07-09T06:26:42.158103Z"
    },
    "code_folding": [],
    "init_cell": true,
    "require": [
     ""
    ],
    "slideshow": {
     "slide_type": "skip"
    }
   },
   "outputs": [
    {
     "data": {},
     "metadata": {
      "display": {
       "element": {
        "0": {},
        "length": 1
       }
      },
      "finalized": false,
      "frozen": true,
      "frozen_output": {}
     },
     "output_type": "display_data"
    }
   ],
   "source": [
    "%%requirejs\n",
    "\n",
    "/**\n",
    " * Create Pipfile from notebook requirements\n",
    " */\n",
    "create_pipfile = function(requirements, overwrite = false, sync = true) {\n",
    "    return new Promise( async (resolve) => {\n",
    "        if ( _.isUndefined(requirements) )\n",
    "            requirements = await Jupyter.notebook.get_requirements()\n",
    "\n",
    "        console.log(\"Creating Pipfile from notebook requirements.\")\n",
    "\n",
    "        let script = `\n",
    "        import json\n",
    "\n",
    "        from pathlib import Path\n",
    "        from thoth.python import Pipfile\n",
    "\n",
    "        if Path(\"Pipfile\").exists() and \"${overwrite}\" != \"true\":\n",
    "            raise FileExistsError(\"Pipfile already exists and \\`overwrite\\` is not set.\")\n",
    "\n",
    "        requirements: dict = json.loads(\"\"\"${JSON.stringify(requirements)}\"\"\")\n",
    "        pipfile = Pipfile.from_dict(requirements)\n",
    "        pipfile.to_file()\n",
    "\n",
    "        pipfile.to_string()\n",
    "        `\n",
    "        callback = (msg) => {\n",
    "            console.debug(\"Execution callback: \", msg)\n",
    "            if (msg.msg_type == \"error\") {\n",
    "                throw new Error(`Script execution error: ${msg.content.ename}: ${msg.content.evalue}`)\n",
    "            }\n",
    "\n",
    "            console.log(\"Pipfile has been created successfully: \", msg.content.data[\"text/plain\"])\n",
    "\n",
    "            if (sync) {\n",
    "                // sync notebook metadata with the Pipfile\n",
    "                Jupyter.notebook.set_requirements(requirements)\n",
    "                console.log(\"Notebook requirements have been synced with Pipfile.\")\n",
    "            }\n",
    "            \n",
    "            resolve(requirements)\n",
    "        }\n",
    "\n",
    "        await execute_python_script(script, {iopub: {output: callback}})\n",
    "    })\n",
    "}"
   ]
  },
  {
   "cell_type": "code",
   "execution_count": 10,
   "metadata": {
    "ExecuteTime": {
     "end_time": "2019-07-09T06:26:42.182584Z",
     "start_time": "2019-07-09T06:26:42.170093Z"
    },
    "init_cell": true,
    "require": [
     ""
    ],
    "slideshow": {
     "slide_type": "skip"
    }
   },
   "outputs": [
    {
     "data": {},
     "metadata": {
      "display": {
       "element": {
        "0": {},
        "length": 1
       }
      },
      "finalized": false,
      "frozen": true,
      "frozen_output": {}
     },
     "output_type": "display_data"
    }
   ],
   "source": [
    "%%requirejs\n",
    "\n",
    "lock_requirements = function(requirements, sync = true) {\n",
    "    return new Promise( async (resolve, reject) => {\n",
    "        if ( _.isUndefined(requirements) ) \n",
    "            requirements = await Jupyter.notebook.get_requirements()\n",
    "\n",
    "        // we want Pipfile to be synced with Pipfile.lock, always overwrite\n",
    "        await create_pipfile(requirements, true)\n",
    "\n",
    "        const command = `\n",
    "            import json\n",
    "            \n",
    "            from thamos.lib import advise\n",
    "            from thamos.cli import _load_pipfiles\n",
    "\n",
    "            pipfile_content, pipfile_lock_content = _load_pipfiles()\n",
    "\n",
    "            results = advise(\n",
    "                pipfile_content,\n",
    "                pipfile_lock_content,\n",
    "                nowait=False,\n",
    "                no_static_analysis=True  # static analysis is not yet functional for Jupyter NBs\n",
    "            )\n",
    "\n",
    "            if not results:\n",
    "                raise Exception(\"Analysis was not successful.\")\n",
    "\n",
    "            result, error = results\n",
    "            report = result[\"report\"]\n",
    "\n",
    "            if not error:\n",
    "                pipfile = report[0][1][\"requirements\"]\n",
    "                pipfile_lock = report[0][1][\"requirements_locked\"]\n",
    "            else:\n",
    "                raise Exception(f\"Errors occured: {result}\")\n",
    "\n",
    "            json.dumps(pipfile_lock)\n",
    "        `\n",
    "        \n",
    "        const timeout = setTimeout(() => {\n",
    "            // interrupt the running script\n",
    "            Jupyter.notebook.kernel.interrupt()\n",
    "            \n",
    "            reject(new Error(\"Timeout exceeded: Locking requirements was not successful.\"))\n",
    "        }, 3000 * 60)\n",
    "        \n",
    "        let callback = (msg) => {\n",
    "            console.debug(\"Execution callback: \", msg)\n",
    "            \n",
    "            if ( msg.msg_type == \"error\") {\n",
    "                reject(new Error(`${msg.content.ename}: ${msg.content.evalue}`))\n",
    "            }\n",
    "            else if ( msg.msg_type == \"stream\" ) {  // adviser / pipenv log messages\n",
    "                console.info(`[Thamos]: `, msg.content.text)\n",
    "                \n",
    "            }\n",
    "            else if ( msg.msg_type == \"execute_result\" ){\n",
    "                clearTimeout(timeout)\n",
    "                \n",
    "                const result = msg.content.data[\"text/plain\"].replace(/(^')|('$)/g, \"\")\n",
    "                const requirements_locked = JSON.parse(result)\n",
    "                \n",
    "                if (sync) {\n",
    "                    // sync requirements locked with Pipfile.lock\n",
    "                    Jupyter.notebook.set_requirements_locked(requirements_locked)\n",
    "                    \n",
    "                    console.log(\"Locked requirements have been synced with Pipfile.\")\n",
    "                }\n",
    "                \n",
    "                resolve(requirements_locked)\n",
    "            }\n",
    "            else\n",
    "                reject(new Error(`Unknown message type: ${msg.msg_type}`))\n",
    "        }\n",
    "\n",
    "        await execute_python_script(command, {iopub: {output: callback}})\n",
    "    })\n",
    "}"
   ]
  },
  {
   "cell_type": "code",
   "execution_count": 99,
   "metadata": {
    "ExecuteTime": {
     "end_time": "2019-07-04T16:05:14.192299Z",
     "start_time": "2019-07-04T16:05:12.330012Z"
    },
    "require": [
     ""
    ],
    "slideshow": {
     "slide_type": "skip"
    }
   },
   "outputs": [
    {
     "data": {},
     "metadata": {
      "display": {
       "element": {
        "0": {},
        "length": 1
       }
      },
      "finalized": false,
      "frozen": true,
      "frozen_output": {}
     },
     "output_type": "display_data"
    }
   ],
   "source": [
    "%%requirejs\n",
    "\n",
    "lock_requirements({\n",
    "    'packages': {\n",
    "        'pandas': '*',\n",
    "    },\n",
    "    'source': [new Source()]\n",
    "}).then((requirements_locked) => {\n",
    "    console.log(\"Locked requirements: \", requirements_locked)\n",
    "    \n",
    "    Jupyter.notebook.set_requirements_locked(requirements_locked)\n",
    "})"
   ]
  },
  {
   "cell_type": "code",
   "execution_count": 11,
   "metadata": {
    "ExecuteTime": {
     "end_time": "2019-07-09T06:26:42.197111Z",
     "start_time": "2019-07-09T06:26:42.184842Z"
    },
    "init_cell": true,
    "require": [
     ""
    ],
    "slideshow": {
     "slide_type": "skip"
    }
   },
   "outputs": [
    {
     "data": {},
     "metadata": {
      "display": {
       "element": {
        "0": {},
        "length": 1
       }
      },
      "finalized": false,
      "frozen": true,
      "frozen_output": {}
     },
     "output_type": "display_data"
    }
   ],
   "source": [
    "%%requirejs\n",
    "\n",
    "Notebook.prototype.set_requirements_locked = function(requirements_locked) {\n",
    "    let metadata = Jupyter.notebook.metadata\n",
    "    \n",
    "    if ( _.isUndefined(metadata.requirements_locked) ) {\n",
    "        metadata.requirements_locked = requirements_locked\n",
    "    } else {\n",
    "        console.debug(\"requirements_locked already exist. Updating.\")\n",
    "        // update the notebook metadata\n",
    "        _.assign(metadata.requirements_locked, requirements_locked)\n",
    "    }\n",
    "        \n",
    "    console.log(\"Notebook locked requirements have been set successfully.\")\n",
    "}\n",
    "\n",
    "Notebook.prototype.get_requirements_locked = function(ignore_metadata = false, sync = true) {\n",
    "    return new Promise(async (resolve, reject) => {\n",
    "        console.log(\"Reading notebook locked requirements.\")\n",
    "        \n",
    "        let requirements_locked = Jupyter.notebook.metadata.requirements_locked\n",
    "\n",
    "        if ( _.isUndefined(requirements_locked) || ignore_metadata ) {\n",
    "            console.log(\"Locked requirements are not defined.\")\n",
    "\n",
    "            lock_requirements(undefined, sync)\n",
    "                .then( (r) => {\n",
    "                    console.log(\"Successfully locked notebook requirements.\", r)\n",
    "                    resolve(r)\n",
    "                })\n",
    "                .catch( (err) => reject(new Error(err)) )\n",
    "        } else {\n",
    "            resolve(requirements_locked)\n",
    "        }\n",
    "    })\n",
    "}"
   ]
  },
  {
   "cell_type": "code",
   "execution_count": 12,
   "metadata": {
    "ExecuteTime": {
     "end_time": "2019-07-09T06:26:42.211578Z",
     "start_time": "2019-07-09T06:26:42.199684Z"
    },
    "code_folding": [
     4
    ],
    "init_cell": true,
    "require": [
     ""
    ],
    "slideshow": {
     "slide_type": "skip"
    }
   },
   "outputs": [
    {
     "data": {},
     "metadata": {
      "display": {
       "element": {
        "0": {},
        "length": 1
       }
      },
      "finalized": false,
      "frozen": true,
      "frozen_output": {}
     },
     "output_type": "display_data"
    }
   ],
   "source": [
    "%%requirejs\n",
    "\n",
    "utils = require(\"base/js/utils\")\n",
    "\n",
    "parse_console_output = function(str) {\n",
    "    const ansi_re = /\\x1b\\[(.*?)([@-~])/g\n",
    "\n",
    "    str = _.escape(str) + \"\\x1b[m\"  // Ensure markup for trailing text\n",
    "\n",
    "    let out = []\n",
    "    let start = 0\n",
    "\n",
    "    while ( (match = ansi_re.exec(str)) ) {\n",
    "        let chunk = str.substring(start, match.index)\n",
    "\n",
    "        if ( chunk ) out.push(chunk)\n",
    "\n",
    "        start = ansi_re.lastIndex\n",
    "    }\n",
    "    \n",
    "    const result = out.join(\"\")\n",
    "\n",
    "    return _.compose(utils.fixBackspace, utils.fixCarriageReturn)(result)\n",
    "}"
   ]
  },
  {
   "cell_type": "code",
   "execution_count": 13,
   "metadata": {
    "ExecuteTime": {
     "end_time": "2019-07-09T06:26:42.225646Z",
     "start_time": "2019-07-09T06:26:42.213940Z"
    },
    "code_folding": [],
    "init_cell": true,
    "require": [
     ""
    ],
    "slideshow": {
     "slide_type": "skip"
    }
   },
   "outputs": [
    {
     "data": {},
     "metadata": {
      "display": {
       "element": {
        "0": {},
        "length": 1
       }
      },
      "finalized": false,
      "frozen": true,
      "frozen_output": {}
     },
     "output_type": "display_data"
    }
   ],
   "source": [
    "%%requirejs\n",
    "\n",
    "/**\n",
    " * Ask Thoth for recommendations on application stack.\n",
    " */\n",
    "create_pipfile_lock = function(requirements_locked, ignore_metadata = true, sync = true) {\n",
    "   return new Promise( async (resolve, reject) => {\n",
    "        if ( _.isUndefined(requirements_locked) ) {\n",
    "            requirements_locked = await Jupyter.notebook.get_requirements_locked(\n",
    "                ignore_metadata,\n",
    "                sync\n",
    "            )\n",
    "        }\n",
    "\n",
    "        console.log(\"Creating Pipfile.lock from notebook locked requirements.\")\n",
    "\n",
    "        let script = `\n",
    "            import json\n",
    "\n",
    "            requirements_locked = json.loads(\"\"\"${JSON.stringify(requirements_locked, null, 4)}\"\"\")\n",
    "\n",
    "            with open(\"Pipfile.lock\", \"w\") as f:\n",
    "                json.dump(requirements_locked, f, sort_keys=True, indent=4)\n",
    "        `\n",
    "        \n",
    "        callback = (msg) => {\n",
    "            console.debug(\"Execution callback: \", msg)\n",
    "            if (msg.content.status == \"error\") {\n",
    "                reject(new Error(`Script execution error: ${msg.content.ename}: ${msg.content.evalue}`))\n",
    "            }\n",
    "\n",
    "            resolve()\n",
    "        }\n",
    "\n",
    "        await execute_python_script(script, {shell: {reply: callback}})\n",
    "    }) \n",
    "}"
   ]
  },
  {
   "cell_type": "code",
   "execution_count": 14,
   "metadata": {
    "ExecuteTime": {
     "end_time": "2019-07-09T06:26:42.241142Z",
     "start_time": "2019-07-09T06:26:42.228216Z"
    },
    "code_folding": [],
    "init_cell": true,
    "require": [
     ""
    ],
    "slideshow": {
     "slide_type": "skip"
    }
   },
   "outputs": [
    {
     "data": {},
     "metadata": {
      "display": {
       "element": {
        "0": {},
        "length": 1
       }
      },
      "finalized": false,
      "frozen": true,
      "frozen_output": {}
     },
     "output_type": "display_data"
    }
   ],
   "source": [
    "%%requirejs\n",
    "\n",
    "install_requirements = function(\n",
    "    requirements,\n",
    "    dev_packages = false,\n",
    "    pre_releases = false\n",
    ") {\n",
    "    return new Promise( async (resolve, reject) => {\n",
    "        \n",
    "        requirements = requirements || []\n",
    "        \n",
    "        /**\n",
    "         * Logging callback\n",
    "         */\n",
    "        let iopub_callback = (msg) => {\n",
    "            console.debug(\"Execution logging callback: \", msg)\n",
    "\n",
    "            if ( msg.msg_type == \"error\") {\n",
    "                reject(new Error(`${msg.content.ename}: ${msg.content.evalue}`))\n",
    "            }\n",
    "\n",
    "            else if ( msg.msg_type == \"stream\" ) {  // adviser / pipenv log messages\n",
    "                const stream = msg.content.name || \"stdout\"\n",
    "                const text = parse_console_output(msg.content.text)\n",
    "\n",
    "                if ( stream === \"stderr\" ) {\n",
    "                    console.warn(`[pipenv]: `, text)\n",
    "                } else\n",
    "                    console.log(`[pipenv]: `, text)\n",
    "\n",
    "            }\n",
    "        }\n",
    "        \n",
    "        /**\n",
    "         * Execution done callback\n",
    "         */\n",
    "        let shell_callback = (msg) => {\n",
    "            console.debug(\"Execution shell callback: \", msg)\n",
    "            \n",
    "            if ( msg.content.status == \"error\") {\n",
    "                reject(new Error(`${msg.content.ename}: ${msg.content.evalue}`))\n",
    "            }\n",
    "            \n",
    "            console.log(\"Requirements have been successfully installed\")\n",
    "            \n",
    "            resolve()\n",
    "        }\n",
    "        \n",
    "\n",
    "        let opts = \"\"\n",
    "        \n",
    "        if ( dev_packages) opts += \"--dev \"\n",
    "        if ( pre_releases) opts += \"--pre\"\n",
    "        \n",
    "        console.log(\"Installing requirements: \")\n",
    "        \n",
    "        await execute_shell_command(\n",
    "            `pipenv install --ignore-pipfile --keep-outdated ${opts} ${requirements}`,\n",
    "            {iopub: {output: iopub_callback}, shell: {reply: shell_callback}}\n",
    "        )\n",
    "    })\n",
    "}"
   ]
  },
  {
   "cell_type": "code",
   "execution_count": 15,
   "metadata": {
    "ExecuteTime": {
     "end_time": "2019-07-09T06:26:42.256558Z",
     "start_time": "2019-07-09T06:26:42.243564Z"
    },
    "code_folding": [],
    "init_cell": true,
    "require": [
     ""
    ],
    "slideshow": {
     "slide_type": "skip"
    }
   },
   "outputs": [
    {
     "data": {},
     "metadata": {
      "display": {
       "element": {
        "0": {},
        "length": 1
       }
      },
      "finalized": false,
      "frozen": true,
      "frozen_output": {}
     },
     "output_type": "display_data"
    }
   ],
   "source": [
    "%%requirejs\n",
    "\n",
    "install_kernel = function(name) {\n",
    "    return new Promise( async (resolve, reject) => {\n",
    "        \n",
    "        /**\n",
    "         * Logging callback\n",
    "         */\n",
    "        let iopub_callback = (msg) => {\n",
    "            console.debug(\"Execution logging callback: \", msg)\n",
    "\n",
    "            if ( msg.msg_type == \"error\") {\n",
    "                reject(new Error(`${msg.content.ename}: ${msg.content.evalue}`))\n",
    "            }\n",
    "\n",
    "            else if ( msg.msg_type == \"stream\" ) {  // adviser / pipenv log messages\n",
    "                const stream = msg.content.name || \"stdout\"\n",
    "                const text = parse_console_output(msg.content.text)\n",
    "\n",
    "                if ( stream === \"stderr\" ) {\n",
    "                    console.warn(`[pipenv]: `, text)\n",
    "                } else\n",
    "                    console.log(`[pipenv]: `, text)\n",
    "\n",
    "            }\n",
    "        }\n",
    "     \n",
    "        const kernel_name = name || Jupyter.notebook.notebook_name\n",
    "            .replace(\".ipynb\", \"\")\n",
    "            .replace(/\\s+/g, \"_\")\n",
    "        \n",
    "        // check if ipython and ipykernel are both installed\n",
    "        const script = dedent`\n",
    "            PACKAGE_LIST=$(pipenv run pip list | cut -d' ' -f 1)\n",
    "\n",
    "            if [[ $(echo $PACKAGE_LIST | grep -E \"ipython\\$|ipykernel\\$\" | wc -l) != 2 ]]; then\n",
    "                echo \"Packages 'ipython' and 'ipykernel are already installed'\"\n",
    "            else\n",
    "                echo \"Installing required packages: 'ipython', 'ipykernel'\"\n",
    "                pipenv run pip install ipython ipykernel\n",
    "            fi\n",
    "        `\n",
    "        \n",
    "        console.log(`Installing kernel ${kernel_name}.`)\n",
    "        \n",
    "        await execute_shell_script(script, {iopub: {output: iopub_callback}})\n",
    "            .then( async () => {\n",
    "                return execute_shell_command(\n",
    "                    `pipenv run ipython kernel install --user --name=${kernel_name}`,\n",
    "                    {iopub: {output: iopub_callback}}\n",
    "                )\n",
    "            })\n",
    "            .catch(reject)\n",
    "\n",
    "        console.log(`Kernel '${kernel_name}' has been installed.`)\n",
    "        \n",
    "        resolve(kernel_name)\n",
    "    })\n",
    "}\n",
    "\n",
    "load_kernel = function(name) {\n",
    "    return new Promise( async (resolve, reject) => {\n",
    "        const kernel_name = name || Jupyter.notebook.notebook_name\n",
    "            .replace(\".ipynb\", \"\")\n",
    "            .replace(/\\s+/g, \"_\")\n",
    "        \n",
    "        const kernel_selector = Jupyter.notebook.kernel_selector\n",
    "        \n",
    "        kernel_selector.request_kernelspecs()\n",
    "        \n",
    "        let wait_for_kernelspec = () => {\n",
    "            if ( _.has(kernel_selector.kernelspecs, name) )\n",
    "                resolve(name)\n",
    "            else\n",
    "                setTimeout(wait_for_kernelspec, 50)  // check again in 50ms\n",
    "        }\n",
    "        \n",
    "        setTimeout(() => reject(\n",
    "            new Error(`Timeout exceeded while waiting for kernel spec: ${name}`)\n",
    "        ), 1000)\n",
    "        \n",
    "        wait_for_kernelspec()\n",
    "    })\n",
    "}\n",
    "\n",
    "set_kernel = function(name) {\n",
    "    return new Promise( async (resolve, reject) => {\n",
    "        const kernel_name = name || Jupyter.notebook.notebook_name\n",
    "            .replace(\".ipynb\", \"\")\n",
    "            .replace(/\\s+/g, \"_\")\n",
    "        \n",
    "        const kernel_selector = Jupyter.notebook.kernel_selector\n",
    "        \n",
    "        console.log(`Setting kernel: ${kernel_name}.`)\n",
    "\n",
    "        if ( kernel_selector.current_selection === kernel_name ) {\n",
    "            console.log(`Kernel ${kernel_name} is already set.`)\n",
    "            return resolve()\n",
    "        }\n",
    "\n",
    "        // make sure kernelspec exists\n",
    "        if ( !_.has(kernel_selector.kernelspecs, kernel_name) ) {\n",
    "            return reject(new Error(`Missing kernel spec: ${kernel_name}`))\n",
    "        }\n",
    "        \n",
    "        kernel_selector.set_kernel(kernel_name)\n",
    "        \n",
    "        resolve(kernel_name)\n",
    "    })\n",
    "}"
   ]
  },
  {
   "cell_type": "code",
   "execution_count": null,
   "metadata": {
    "ExecuteTime": {
     "end_time": "2019-07-03T10:37:19.581055Z",
     "start_time": "2019-07-03T10:37:17.689623Z"
    },
    "require": [
     ""
    ],
    "slideshow": {
     "slide_type": "skip"
    }
   },
   "outputs": [],
   "source": [
    "%%requirejs\n",
    "\n",
    "install_kernel()\n",
    "    .then( (name) => load_kernel(name))\n",
    "    .then( (name) => {\n",
    "        console.log(`Kernel spec '${name}' is ready.`)\n",
    "        set_kernel(name)\n",
    "    })\n",
    "    .then( (name) => console.log(`Kernel '${name}' has been set.`))"
   ]
  },
  {
   "cell_type": "markdown",
   "metadata": {
    "slideshow": {
     "slide_type": "skip"
    }
   },
   "source": [
    "---"
   ]
  },
  {
   "cell_type": "markdown",
   "metadata": {
    "slideshow": {
     "slide_type": "slide"
    }
   },
   "source": [
    "## Notebook Content\n",
    "\n",
    "For the purposes of this demo, let's pretend that all the notebook source code is actually contained in this section."
   ]
  },
  {
   "cell_type": "code",
   "execution_count": 17,
   "metadata": {
    "ExecuteTime": {
     "end_time": "2019-07-09T06:28:22.730716Z",
     "start_time": "2019-07-09T06:28:22.667104Z"
    },
    "require": [
     "notebook/js/codecell"
    ],
    "slideshow": {
     "slide_type": "fragment"
    }
   },
   "outputs": [
    {
     "ename": "ModuleNotFoundError",
     "evalue": "No module named 'pandas'",
     "output_type": "error",
     "traceback": [
      "\u001b[0;31m---------------------------------------------------------------------------\u001b[0m",
      "\u001b[0;31mModuleNotFoundError\u001b[0m                       Traceback (most recent call last)",
      "\u001b[0;32m<ipython-input-17-40af141a6b3c>\u001b[0m in \u001b[0;36m<module>\u001b[0;34m\u001b[0m\n\u001b[1;32m      2\u001b[0m \u001b[0;32mimport\u001b[0m \u001b[0msys\u001b[0m\u001b[0;34m\u001b[0m\u001b[0;34m\u001b[0m\u001b[0m\n\u001b[1;32m      3\u001b[0m \u001b[0;34m\u001b[0m\u001b[0m\n\u001b[0;32m----> 4\u001b[0;31m \u001b[0;32mimport\u001b[0m \u001b[0mpandas\u001b[0m \u001b[0;32mas\u001b[0m \u001b[0mpd\u001b[0m\u001b[0;34m\u001b[0m\u001b[0;34m\u001b[0m\u001b[0m\n\u001b[0m\u001b[1;32m      5\u001b[0m \u001b[0;32mimport\u001b[0m \u001b[0msklearn\u001b[0m\u001b[0;34m\u001b[0m\u001b[0;34m\u001b[0m\u001b[0m\n",
      "\u001b[0;31mModuleNotFoundError\u001b[0m: No module named 'pandas'"
     ]
    }
   ],
   "source": [
    "import json\n",
    "import sys\n",
    "\n",
    "import pandas as pd\n",
    "import sklearn"
   ]
  },
  {
   "cell_type": "code",
   "execution_count": null,
   "metadata": {
    "ExecuteTime": {
     "end_time": "2019-07-01T06:00:01.286099Z",
     "start_time": "2019-07-01T06:00:01.211Z"
    },
    "slideshow": {
     "slide_type": "fragment"
    }
   },
   "outputs": [],
   "source": [
    "df = pd.read_csv(\"<path>\")\n",
    "df.head()\n",
    "\n",
    "with open(\"requirements.json\") as f:\n",
    "    requirements = json.load(f)\n",
    "\n",
    "try:\n",
    "    ...\n",
    "except Exception as exc:\n",
    "    print(exc, file=sys.stderr)"
   ]
  },
  {
   "cell_type": "markdown",
   "metadata": {
    "slideshow": {
     "slide_type": "skip"
    }
   },
   "source": [
    "---"
   ]
  },
  {
   "cell_type": "markdown",
   "metadata": {
    "slideshow": {
     "slide_type": "skip"
    }
   },
   "source": [
    "Load the `nbrequirements` magic"
   ]
  },
  {
   "cell_type": "code",
   "execution_count": 16,
   "metadata": {
    "ExecuteTime": {
     "end_time": "2019-07-09T06:26:42.541869Z",
     "start_time": "2019-07-09T06:26:42.258518Z"
    },
    "init_cell": true,
    "require": [
     "notebook/js/codecell"
    ],
    "slideshow": {
     "slide_type": "skip"
    }
   },
   "outputs": [],
   "source": [
    "import sys;\n",
    "\n",
    "sys.path.insert(0, \"../../\")  # jupyter-nbrequirements\n",
    "sys.path.insert(0, \"/home/macermak/RedHat/adviser\")  # patched aviser\n",
    "\n",
    "%load_ext jupyter_nbrequirements"
   ]
  },
  {
   "cell_type": "markdown",
   "metadata": {
    "slideshow": {
     "slide_type": "skip"
    }
   },
   "source": [
    "---"
   ]
  },
  {
   "cell_type": "markdown",
   "metadata": {
    "slideshow": {
     "slide_type": "slide"
    }
   },
   "source": [
    "## Set notebook requirements\n",
    "\n",
    "<p style=\"text-align: justify; text-justify: inter-word;\">\n",
    "    The goals are in order of operations that we want to perform when setting up the environment.\n",
    "    The first step is to define notebook requirements.\n",
    "</p>\n",
    "\n",
    "<span style=\"font: 18px\"><b>Acceptance Criteria</b></span><br>\n",
    "\n",
    "<p style=\"text-align: justify; text-justify: inter-word;\">\n",
    "    The notebook has requirements embedded in its metadata\n",
    "</p>\n",
    "\n",
    "<span style=\"font: 18px\"><b>How to do it</b></span><br>\n",
    "\n",
    "<p style=\"text-align: justify; text-justify: inter-word;\">\n",
    "    There is a cell magic command <code>%%requirements</code> which takes the content of a cell and turns it into notebook requirements.\n",
    "</p>\n",
    "    \n",
    "Example:\n",
    "\n",
    "    %%requirements\n",
    "    \n",
    "    [[source]]\n",
    "    name = \"pypi\"\n",
    "    url = \"https://pypi.org/simple\"\n",
    "    verify_ssl = true\n",
    "\n",
    "    [dev-packages]\n",
    "    autopep8 = \"*\"\n",
    "\n",
    "    [packages]\n",
    "    ipython = \"*\"\n",
    "    ipykernel = \"*\"\n",
    "\n",
    "    [requires]\n",
    "    python_version = \"3.6\"\n"
   ]
  },
  {
   "cell_type": "code",
   "execution_count": null,
   "metadata": {
    "ExecuteTime": {
     "end_time": "2019-07-01T06:08:22.050349Z",
     "start_time": "2019-07-01T06:08:21.926799Z"
    },
    "require": [],
    "slideshow": {
     "slide_type": "subslide"
    }
   },
   "outputs": [],
   "source": [
    "%%requirements\n",
    "\n",
    "[[source]]\n",
    "name = \"pypi\"\n",
    "url = \"https://pypi.org/simple\"\n",
    "verify_ssl = true\n",
    "\n",
    "[dev-packages]\n",
    "autopep8 = \"*\"\n",
    "\n",
    "[packages]\n",
    "ipython = \"*\"\n",
    "ipykernel = \"*\"\n",
    "\n",
    "[requires]\n",
    "python_version = \"3.6\""
   ]
  },
  {
   "cell_type": "markdown",
   "metadata": {
    "ExecuteTime": {
     "end_time": "2019-06-27T11:47:58.284082Z",
     "start_time": "2019-06-27T11:47:58.278179Z"
    },
    "slideshow": {
     "slide_type": "skip"
    }
   },
   "source": [
    "---"
   ]
  },
  {
   "cell_type": "markdown",
   "metadata": {
    "slideshow": {
     "slide_type": "slide"
    }
   },
   "source": [
    "## Get notebook requirements\n",
    "\n",
    "<p style=\"text-align: justify; text-justify: inter-word;\">\n",
    "    Now suppose that we've received the notebook from somebody else. We want to check what requirements the notebook has defined and eventually, what are the <i>real</i> notebok requirements.\n",
    "</p>\n",
    "\n",
    "<span style=\"font: 18px\"><b>Acceptance Criteria</b></span><br>\n",
    "\n",
    "<p style=\"text-align: justify; text-justify: inter-word;\">\n",
    "    We can safely check what requirements are defined and which are actually used.\n",
    "</p>\n",
    "\n",
    "<span style=\"font: 18px\"><b>How to do it</b></span><br>\n",
    "\n",
    "<p style=\"text-align: justify; text-justify: inter-word;\">\n",
    "    There is a line magic command <code>%requirements</code> which displays the content of notebok requirements metadata, and if it doesn't exist, it performs static analysis and checks for library usage in the notebook source code.\n",
    "</p>\n",
    "\n",
    "Example:\n",
    "\n",
    "    %requirements  # notice the single % sign\n"
   ]
  },
  {
   "cell_type": "code",
   "execution_count": 19,
   "metadata": {
    "ExecuteTime": {
     "end_time": "2019-07-09T06:30:09.581512Z",
     "start_time": "2019-07-09T06:30:09.506648Z"
    },
    "require": [],
    "slideshow": {
     "slide_type": "subslide"
    }
   },
   "outputs": [
    {
     "data": {},
     "metadata": {
      "display": {
       "element": {
        "0": {},
        "length": 1
       }
      },
      "finalized": false,
      "frozen": true,
      "frozen_output": {}
     },
     "output_type": "display_data"
    },
    {
     "name": "stdout",
     "output_type": "stream",
     "text": [
      "[packages]\n",
      "ipython = \"*\"\n",
      "pandas = \"*\"\n",
      "\n",
      "[dev-packages]\n",
      "\n",
      "[[source]]\n",
      "url = \"https://pypi.org/simple\"\n",
      "verify_ssl = true\n",
      "name = \"pypi\"\n",
      "\n",
      "[requires]\n",
      "python_version = \"3.6\"\n",
      "\n",
      "\n"
     ]
    }
   ],
   "source": [
    "%requirements"
   ]
  },
  {
   "cell_type": "markdown",
   "metadata": {
    "slideshow": {
     "slide_type": "fragment"
    }
   },
   "source": [
    "<p style=\"text-align: justify; text-justify: inter-word;\">\n",
    "    Now, the user who specified the notebook requirements had probably had a tough night the day before, so he did not get them all.\n",
    "    <br>\n",
    "    Let's ... well ... ignore it ... and gather them ouselves!\n",
    "</p>"
   ]
  },
  {
   "cell_type": "code",
   "execution_count": 22,
   "metadata": {
    "ExecuteTime": {
     "end_time": "2019-07-09T06:30:25.493929Z",
     "start_time": "2019-07-09T06:30:25.460214Z"
    },
    "require": [],
    "slideshow": {
     "slide_type": "fragment"
    }
   },
   "outputs": [
    {
     "data": {},
     "metadata": {
      "display": {
       "element": {
        "0": {},
        "length": 1
       }
      },
      "finalized": false,
      "frozen": true,
      "frozen_output": {}
     },
     "output_type": "display_data"
    },
    {
     "name": "stdout",
     "output_type": "stream",
     "text": [
      "[packages]\n",
      "pandas = \"*\"\n",
      "ipython = \"*\"\n",
      "\n",
      "[dev-packages]\n",
      "\n",
      "[[source]]\n",
      "url = \"https://pypi.org/simple\"\n",
      "verify_ssl = true\n",
      "name = \"pypi\"\n",
      "\n",
      "[requires]\n",
      "python_version = \"3.6\"\n",
      "\n",
      "\n"
     ]
    }
   ],
   "source": [
    "%requirements --ignore-metadata"
   ]
  },
  {
   "cell_type": "markdown",
   "metadata": {
    "slideshow": {
     "slide_type": "fragment"
    }
   },
   "source": [
    "Few remarks about the output that we see above. If you take a look at the [#Code](#Code) section, you'll see that the imports actually look like this:\n",
    "\n",
    "```\n",
    "import json\n",
    "import sys\n",
    "\n",
    "import pandas as pd\n",
    "import sklearn\n",
    "```\n",
    "\n",
    "So why do we *NOT* see all of these requirements in the output?\n",
    "\n",
    "First of all, `json` and `sys` are somewhat special, `json` is a part of **standard library** and `sys` is a **built-in** module. Which means that they don't need to be installed.\n",
    "\n",
    "As far as `sklearn` is concerned, we don't use it in this notebook. That's right, we track not only **imports**, but also the **usage**."
   ]
  },
  {
   "cell_type": "markdown",
   "metadata": {
    "slideshow": {
     "slide_type": "skip"
    }
   },
   "source": [
    "---"
   ]
  },
  {
   "cell_type": "markdown",
   "metadata": {
    "slideshow": {
     "slide_type": "slide"
    }
   },
   "source": [
    "## Generate Thoth config\n",
    "\n",
    "<p style=\"text-align: justify; text-justify: inter-word;\">\n",
    "    Thoth uses configuration file which looks something like this:\n",
    "    \n",
    "    # A remote Thoth service to talk to:\n",
    "    host: stage.thoth-station.ninja\n",
    "\n",
    "    # Configure TLS verification for communication with remote Thoth instance:\n",
    "    tls_verify: true\n",
    "\n",
    "    # Format of requirements file, currently supported is only Pipenv:\n",
    "    requirements_format: pipenv\n",
    "\n",
    "    runtime_environments:\n",
    "      - name: 'fedora:30'\n",
    "        # Operating system for which the recommendations should be created:\n",
    "        operating_system:\n",
    "          name: fedora\n",
    "          version: '30'\n",
    "        # Hardware information for the recommendation engine:\n",
    "        hardware:\n",
    "          # Intel(R) Core(TM) i7-6600U CPU @ 2.60GHz\n",
    "          cpu_family: 6\n",
    "          cpu_model: 78\n",
    "        # Software configuration of runtime environment:\n",
    "        python_version: '3.6'\n",
    "        cuda_version: null\n",
    "        # Recommendation type - one of testing, stable, latest:\n",
    "        recommendation_type: stable\n",
    "        # Number of latest versions considered during advises.\n",
    "        limit_latest_versions: null\n",
    "\n",
    "    #\n",
    "    # Configuration of bots:\n",
    "    #\n",
    "    managers:\n",
    "      - name: pipfile-requirements\n",
    "      - name: info\n",
    "      - name: version\n",
    "        configuration:\n",
    "          # A list of maintainers (GitHub or GitLab accounts) of this repository:\n",
    "          maintainers: []\n",
    "          # A list of assignees to which the opened pull requests and issues should\n",
    "          # be assigned to:\n",
    "          assignees: []\n",
    "          # Labels for issues and pull requests:\n",
    "          labels:\n",
    "            - bot\n",
    "          # Automatically maintain a changelog file stating features of new\n",
    "          # releases:\n",
    "          changelog_file: true\n",
    "</p>\n",
    "<p style=\"text-align: justify; text-justify: inter-word;\">\n",
    "    In order to be able to fully configure Thoth functionality, we would like to be able to simply generate the file.\n",
    "</p>\n",
    "\n",
    "<span style=\"font: 18px\"><b>Acceptance Criteria</b></span><br>\n",
    "\n",
    "<p style=\"text-align: justify; text-justify: inter-word;\">\n",
    "    The <code>.thoth.yaml</code> file has been generated\n",
    "</p>\n",
    "\n",
    "<span style=\"font: 18px\"><b>How to do it</b></span><br>\n",
    "\n",
    "<p style=\"text-align: justify; text-justify: inter-word;\">\n",
    "    There is a subcommand to the <code>%requirements</code> command called <code>config</code>. This generates the default <code>.thoth.yaml</code> config file.\n",
    "</p>\n",
    "    \n",
    "Example:\n",
    "\n",
    "    %requirements config\n"
   ]
  },
  {
   "cell_type": "code",
   "execution_count": null,
   "metadata": {
    "ExecuteTime": {
     "end_time": "2019-07-02T15:46:12.688223Z",
     "start_time": "2019-07-02T15:46:12.572493Z"
    },
    "require": [],
    "slideshow": {
     "slide_type": "subslide"
    }
   },
   "outputs": [],
   "source": [
    "%requirements config --to-file"
   ]
  },
  {
   "cell_type": "markdown",
   "metadata": {
    "ExecuteTime": {
     "end_time": "2019-06-28T09:42:45.518768Z",
     "start_time": "2019-06-28T09:42:45.508657Z"
    },
    "slideshow": {
     "slide_type": "fragment"
    }
   },
   "source": [
    "Now let's leave the config as-is except for a simple change... let's disable `tls_verify` and set `fedora:29` as our operating system."
   ]
  },
  {
   "cell_type": "code",
   "execution_count": 105,
   "metadata": {
    "ExecuteTime": {
     "end_time": "2019-07-04T16:17:35.094568Z",
     "start_time": "2019-07-04T16:17:34.702295Z"
    },
    "slideshow": {
     "slide_type": "fragment"
    }
   },
   "outputs": [],
   "source": [
    "# set tls_verify to false\n",
    "!perl -i -pe 's/(?<=tls_verify: )(false|true)/false/' .thoth.yaml\n",
    "# set operating system version to 29\n",
    "!perl -i -pe \"s/(?<=version: )('30')/'29'/\" .thoth.yaml\n",
    "# set name to fedora:29\n",
    "!perl -i -pe \"s/fedora:30/fedora:29/\" .thoth.yaml"
   ]
  },
  {
   "cell_type": "code",
   "execution_count": 106,
   "metadata": {
    "ExecuteTime": {
     "end_time": "2019-07-04T16:17:46.798174Z",
     "start_time": "2019-07-04T16:17:46.734220Z"
    },
    "require": [],
    "slideshow": {
     "slide_type": "fragment"
    }
   },
   "outputs": [
    {
     "data": {},
     "metadata": {
      "display": {
       "element": {
        "0": {},
        "length": 1
       }
      },
      "finalized": false,
      "frozen": true,
      "frozen_output": {}
     },
     "output_type": "display_data"
    },
    {
     "name": "stdout",
     "output_type": "stream",
     "text": [
      "# This is  Thoth's configuration file placed in a root of a repo\n",
      "# (named as .thoth.yaml) used by Thamos CLI as well as by Thoth bots. Please\n",
      "# adjust values listed below as desired.\n",
      "\n",
      "# A remote Thoth service to talk to:\n",
      "host: stage.thoth-station.ninja\n",
      "\n",
      "# Configure TLS verification for communication with remote Thoth instance:\n",
      "tls_verify: false\n",
      "\n",
      "# Format of requirements file, currently supported is only Pipenv:\n",
      "requirements_format: pipenv\n",
      "\n",
      "runtime_environments:\n",
      "  - name: 'fedora:29'\n",
      "    # Operating system for which the recommendations should be created:\n",
      "    operating_system:\n",
      "      name: fedora\n",
      "      version: '29'\n",
      "    # Hardware information for the recommendation engine:\n",
      "    hardware:\n",
      "      # Intel(R) Core(TM) i7-6600U CPU @ 2.60GHz\n",
      "      cpu_family: 6\n",
      "      cpu_model: 78\n",
      "    # Software configuration of runtime environment:\n",
      "    python_version: '3.6'\n",
      "    cuda_version: null\n",
      "    # Recommendation type - one of testing, stable, latest:\n",
      "    recommendation_type: stable\n",
      "    # Number of latest versions considered during advises.\n",
      "    limit_latest_versions: null\n",
      "\n",
      "#\n",
      "# Configuration of bots:\n",
      "#\n",
      "managers:\n",
      "  - name: pipfile-requirements\n",
      "  - name: info\n",
      "  - name: version\n",
      "    configuration:\n",
      "      # A list of maintainers (GitHub or GitLab accounts) of this repository:\n",
      "      maintainers: []\n",
      "      # A list of assignees to which the opened pull requests and issues should\n",
      "      # be assigned to:\n",
      "      assignees: []\n",
      "      # Labels for issues and pull requests:\n",
      "      labels:\n",
      "        - bot\n",
      "      # Automatically maintain a changelog file stating features of new\n",
      "      # releases:\n",
      "      changelog_file: true\n",
      "\n"
     ]
    }
   ],
   "source": [
    "%requirements config"
   ]
  },
  {
   "cell_type": "markdown",
   "metadata": {
    "slideshow": {
     "slide_type": "skip"
    }
   },
   "source": [
    "---"
   ]
  },
  {
   "cell_type": "markdown",
   "metadata": {
    "slideshow": {
     "slide_type": "slide"
    }
   },
   "source": [
    "## Generate Pipfile\n",
    "\n",
    "<p style=\"text-align: justify; text-justify: inter-word;\">\n",
    "    Now we're getting to the part in which we want to work with the requirements -- that is, install them -- and in order to do that, we need a manifest file. In our case, it's gonna be the Pipfile.\n",
    "</p>\n",
    "\n",
    "<span style=\"font: 18px\"><b>Acceptance Criteria</b></span><br>\n",
    "\n",
    "<p style=\"text-align: justify; text-justify: inter-word;\">\n",
    "    The <b>Pipfile</b> has been generated from notebook requirements.\n",
    "</p>\n",
    "\n",
    "<span style=\"font: 18px\"><b>How to do it</b></span><br>\n",
    "    The <code>%requirements</code> magic has an option <code>--to-file</code> which outputs the requirements to the Pipfile.\n",
    "\n",
    "<p style=\"text-align: justify; text-justify: inter-word;\">\n",
    "</p>\n",
    "    \n",
    "Example:\n",
    "\n",
    "    %requirements --to-file\n"
   ]
  },
  {
   "cell_type": "markdown",
   "metadata": {
    "slideshow": {
     "slide_type": "subslide"
    }
   },
   "source": [
    "For the purpose of this example -- check that there is no Pipfile present"
   ]
  },
  {
   "cell_type": "code",
   "execution_count": null,
   "metadata": {
    "ExecuteTime": {
     "end_time": "2019-07-04T11:26:05.047012Z",
     "start_time": "2019-07-04T11:26:04.914487Z"
    },
    "slideshow": {
     "slide_type": "fragment"
    }
   },
   "outputs": [],
   "source": [
    "%cat Pipfile"
   ]
  },
  {
   "cell_type": "code",
   "execution_count": null,
   "metadata": {
    "ExecuteTime": {
     "end_time": "2019-07-01T11:33:23.238606Z",
     "start_time": "2019-07-01T11:33:23.198218Z"
    },
    "require": [],
    "slideshow": {
     "slide_type": "fragment"
    }
   },
   "outputs": [],
   "source": [
    "%requirements --ignore-metadata --to-file"
   ]
  },
  {
   "cell_type": "markdown",
   "metadata": {
    "slideshow": {
     "slide_type": "fragment"
    }
   },
   "source": [
    "And now ..."
   ]
  },
  {
   "cell_type": "code",
   "execution_count": null,
   "metadata": {
    "ExecuteTime": {
     "end_time": "2019-07-04T11:26:14.669484Z",
     "start_time": "2019-07-04T11:26:14.503104Z"
    },
    "slideshow": {
     "slide_type": "fragment"
    }
   },
   "outputs": [],
   "source": [
    "%cat Pipfile"
   ]
  },
  {
   "cell_type": "markdown",
   "metadata": {
    "slideshow": {
     "slide_type": "skip"
    }
   },
   "source": [
    "---"
   ]
  },
  {
   "cell_type": "markdown",
   "metadata": {
    "slideshow": {
     "slide_type": "slide"
    }
   },
   "source": [
    "## Lock down dependencies\n",
    "\n",
    "<p style=\"text-align: justify; text-justify: inter-word;\">\n",
    "Here we're getting to the core part. We want to resolve the software stack and lock down dependencies so that the software stack is <i>thoth-optimal</i>. \n",
    "</p>\n",
    "\n",
    "<span style=\"font: 18px\"><b>Acceptance Criteria</b></span><br>\n",
    "\n",
    "<p style=\"text-align: justify; text-justify: inter-word;\">\n",
    "    The Pipfile.lock has been generated using Thoth adviser API.\n",
    "</p>\n",
    "\n",
    "<span style=\"font: 18px\"><b>How to do it</b></span><br>\n",
    "\n",
    "\n",
    "<p style=\"text-align: justify; text-justify: inter-word;\">\n",
    "    The <code>%requirements</code> magic has a subcommand <code>lock</code> which takes an optional parameter <code style=\"white-space: nowrap;\">--backend</code></span>. It triggers an analysis in <i>thoth-backend-stage</i> namespace and outputs the resolved software stack with locked down dependencies to the <b>Pipfile.lock</b>. \n",
    "</p>\n",
    "    \n",
    "Example:\n",
    "\n",
    "    %requirements lock\n",
    "    "
   ]
  },
  {
   "cell_type": "markdown",
   "metadata": {},
   "source": [
    "Once again, check that Pipfile.lock is not present"
   ]
  },
  {
   "cell_type": "code",
   "execution_count": 23,
   "metadata": {
    "ExecuteTime": {
     "end_time": "2019-07-09T06:35:17.007240Z",
     "start_time": "2019-07-09T06:35:16.813415Z"
    }
   },
   "outputs": [
    {
     "name": "stdout",
     "output_type": "stream",
     "text": [
      "cat: Pipfile.lock: No such file or directory\r\n"
     ]
    }
   ],
   "source": [
    "%cat Pipfile.lock"
   ]
  },
  {
   "cell_type": "markdown",
   "metadata": {},
   "source": [
    "And also ignore the notebook metadata, just in case the developer also locked requirements (and remember, he had a tough night...)"
   ]
  },
  {
   "cell_type": "code",
   "execution_count": 27,
   "metadata": {
    "ExecuteTime": {
     "end_time": "2019-07-09T06:36:47.859609Z",
     "start_time": "2019-07-09T06:36:29.497859Z"
    },
    "require": [],
    "slideshow": {
     "slide_type": "subslide"
    }
   },
   "outputs": [
    {
     "data": {},
     "metadata": {
      "display": {
       "element": {
        "0": {},
        "length": 1
       }
      },
      "finalized": false,
      "frozen": true,
      "frozen_output": {}
     },
     "output_type": "display_data"
    }
   ],
   "source": [
    "%requirements lock --ignore-metadata"
   ]
  },
  {
   "cell_type": "markdown",
   "metadata": {
    "slideshow": {
     "slide_type": "fragment"
    }
   },
   "source": [
    "The requirements are cached, so when we want to output them to a file, we don't need to go through the analysis again."
   ]
  },
  {
   "cell_type": "code",
   "execution_count": 153,
   "metadata": {
    "ExecuteTime": {
     "end_time": "2019-07-04T16:56:31.897399Z",
     "start_time": "2019-07-04T16:56:30.043721Z"
    },
    "require": [],
    "slideshow": {
     "slide_type": "fragment"
    }
   },
   "outputs": [
    {
     "data": {},
     "metadata": {
      "display": {
       "element": {
        "0": {},
        "length": 1
       }
      },
      "finalized": false,
      "frozen": true,
      "frozen_output": {}
     },
     "output_type": "display_data"
    }
   ],
   "source": [
    "%requirements lock --ignore-metadata --to-file"
   ]
  },
  {
   "cell_type": "markdown",
   "metadata": {
    "slideshow": {
     "slide_type": "skip"
    }
   },
   "source": [
    "---"
   ]
  },
  {
   "cell_type": "markdown",
   "metadata": {
    "slideshow": {
     "slide_type": "slide"
    }
   },
   "source": [
    "## Install dependencies into virtual environment\n",
    "\n",
    "<p style=\"text-align: justify; text-justify: inter-word;\">\n",
    "</p>\n",
    "\n",
    "<span style=\"font: 18px\"><b>Acceptance Criteria</b></span><br>\n",
    "\n",
    "<p style=\"text-align: justify; text-justify: inter-word;\">\n",
    "</p>\n",
    "\n",
    "<span style=\"font: 18px\"><b>How to do it</b></span><br>\n",
    "\n",
    "<p style=\"text-align: justify; text-justify: inter-word;\">\n",
    "</p>\n",
    "    \n",
    "Example:\n",
    "\n",
    "    %requirements install\n"
   ]
  },
  {
   "cell_type": "code",
   "execution_count": null,
   "metadata": {
    "ExecuteTime": {
     "end_time": "2019-07-03T08:40:05.682255Z",
     "start_time": "2019-07-03T08:40:05.658812Z"
    },
    "require": [],
    "slideshow": {
     "slide_type": "subslide"
    }
   },
   "outputs": [],
   "source": [
    "%requirements install"
   ]
  },
  {
   "cell_type": "markdown",
   "metadata": {
    "slideshow": {
     "slide_type": "skip"
    }
   },
   "source": [
    "---"
   ]
  },
  {
   "cell_type": "markdown",
   "metadata": {
    "slideshow": {
     "slide_type": "slide"
    }
   },
   "source": [
    "## Install and set a new Jupyter kernel\n",
    "\n",
    "<p style=\"text-align: justify; text-justify: inter-word;\">\n",
    "</p>\n",
    "\n",
    "<span style=\"font: 18px\"><b>Acceptance Criteria</b></span><br>\n",
    "\n",
    "<p style=\"text-align: justify; text-justify: inter-word;\">\n",
    "</p>\n",
    "\n",
    "<span style=\"font: 18px\"><b>How to do it</b></span><br>\n",
    "\n",
    "<p style=\"text-align: justify; text-justify: inter-word;\">\n",
    "    \n",
    "</p>\n",
    "    \n",
    "Example:\n",
    "    \n",
    "    %requirements kernel install [name]\n",
    "    \n",
    "    # if we want to also set a kernel\n",
    "    # by default, this assumes a kernel matching the name of your notebook,\n",
    "    # optionally you can provide custom name of an existing kernelspec\n",
    "    %requirements kernel set [name]\n"
   ]
  },
  {
   "cell_type": "markdown",
   "metadata": {
    "slideshow": {
     "slide_type": "subslide"
    }
   },
   "source": [
    "Lets check our current kernel specification"
   ]
  },
  {
   "cell_type": "code",
   "execution_count": null,
   "metadata": {
    "ExecuteTime": {
     "end_time": "2019-07-03T12:22:23.099834Z",
     "start_time": "2019-07-03T12:22:23.051230Z"
    },
    "require": [],
    "slideshow": {
     "slide_type": "fragment"
    }
   },
   "outputs": [],
   "source": [
    "%requirements kernel"
   ]
  },
  {
   "cell_type": "markdown",
   "metadata": {
    "slideshow": {
     "slide_type": "fragment"
    }
   },
   "source": [
    "Now install the new kernel from the notebook requirements"
   ]
  },
  {
   "cell_type": "code",
   "execution_count": null,
   "metadata": {
    "slideshow": {
     "slide_type": "fragment"
    }
   },
   "outputs": [],
   "source": [
    "%requirements kernel install"
   ]
  },
  {
   "cell_type": "markdown",
   "metadata": {
    "slideshow": {
     "slide_type": "slide"
    }
   },
   "source": [
    "And at the very end of this demo ... set the new Jupyter kernel.\n",
    "\n",
    "First check out the current kernel spec (agian, just to demonstrate that there is no `example` kernel present)\n",
    "\n",
    "> HINT: The kernels are located at the toolbar menu: *Kernel* -> *Change kernel*\n",
    "\n",
    "If it is the case and there is already such kernel, feel free to provide custom kernel name by `%requirements kernel set <name>`\n",
    "\n",
    "> WARNING: After you issue this command, you're gonna have a fresh kernel ready, so don't expect your variables or imports to be present"
   ]
  },
  {
   "cell_type": "code",
   "execution_count": null,
   "metadata": {
    "slideshow": {
     "slide_type": "fragment"
    }
   },
   "outputs": [],
   "source": [
    "%requirements kernel set"
   ]
  },
  {
   "cell_type": "markdown",
   "metadata": {
    "slideshow": {
     "slide_type": "fragment"
    }
   },
   "source": [
    "Remember the error that we got about `pandas` library not being present?"
   ]
  },
  {
   "cell_type": "code",
   "execution_count": null,
   "metadata": {
    "ExecuteTime": {
     "end_time": "2019-07-03T12:42:34.081615Z",
     "start_time": "2019-07-03T12:42:34.062961Z"
    },
    "code_folding": [
     5,
     15
    ],
    "slideshow": {
     "slide_type": "fragment"
    }
   },
   "outputs": [],
   "source": [
    "from IPython.core.display import HTML\n",
    "\n",
    "try:\n",
    "    import pandas as pd  # <--- This was not possible before\n",
    "    \n",
    "    display(HTML(\"\"\"\n",
    "        <br>\n",
    "        <div style=\"display: grid\">\n",
    "            <img style=\"margin: 0 auto;\" src=\"/static/base/images/logo.png?v=641991992878ee24c6f3826e81054a0f\" alt=\"Jupyter Notebook\">\n",
    "        </div>\n",
    "        <hr>\n",
    "        <center><p style=\"text-align: center; font-size: 21px\"> Thank you for your attention! </p></center>\n",
    "    \"\"\"))\n",
    "except:\n",
    "    \n",
    "    display(HTML(\"\"\"\n",
    "        <br>\n",
    "        <div style=\"display: grid\">\n",
    "            <i class=\"fas fa-ban\" style=\"margin: 0 auto; font-size: 80px; color: red;\"></i>\n",
    "        </div>\n",
    "        <hr>\n",
    "        <center><p style=\"text-align: center; font-size: 21px\"> Time to blame the QA... </p></center>\n",
    "    \"\"\"))"
   ]
  }
 ],
 "metadata": {
  "celltoolbar": "Initialization Cell",
  "finalized": {
   "timestamp": 1562154687748,
   "trusted": true
  },
  "hide_input": false,
  "kernelspec": {
   "display_name": "jupyter-nbrequirements",
   "language": "python",
   "name": "jupyter-nbrequirements"
  },
  "language_info": {
   "codemirror_mode": {
    "name": "ipython",
    "version": 3
   },
   "file_extension": ".py",
   "mimetype": "text/x-python",
   "name": "python",
   "nbconvert_exporter": "python",
   "pygments_lexer": "ipython3",
   "version": "3.6.8"
  },
  "requirements": {
   "packages": {
    "ipython": "*",
    "pandas": "*"
   },
   "requires": {
    "python_version": "3.6"
   },
   "source": [
    {
     "name": "pypi",
     "url": "https://pypi.org/simple",
     "verify_ssl": true
    }
   ]
  },
  "requirements_locked": {
   "_meta": {
    "hash": {
     "sha256": "90b315ad85afb15c16898f5076635b54ad3798ba3ccf6a1919b9e8144947f378"
    },
    "pipfile-spec": 6,
    "requires": {},
    "sources": [
     {
      "name": "pypi",
      "url": "https://pypi.org/simple",
      "verify_ssl": true
     },
     {
      "name": "pypi-org",
      "url": "https://pypi.org/simple",
      "verify_ssl": true
     }
    ]
   },
   "default": {
    "numpy": {
     "hashes": [
      "sha256:b78a1defedb0e8f6ae1eb55fa6ac74ab42acc4569c3a2eacc2a407ee5d42ebcb",
      "sha256:0e2eed77804b2a6a88741f8fcac02c5499bba3953ec9c71e8b217fad4912c56c",
      "sha256:754a6be26d938e6ca91942804eb209307b73f806a1721176278a6038869a1686",
      "sha256:a61255a765b3ac73ee4b110b28fccfbf758c985677f526c2b4b39c48cc4b509d",
      "sha256:88a72c1e45a0ae24d1f249a529d9f71fe82e6fa6a3fd61414b829396ec585900",
      "sha256:315fa1b1dfc16ae0f03f8fd1c55f23fd15368710f641d570236f3d78af55e340",
      "sha256:80d99399c97f646e873dd8ce87c38cfdbb668956bbc39bc1e6cac4b515bba2a0",
      "sha256:54fe3b7ed9e7eb928bbc4318f954d133851865f062fa4bbb02ef8940bc67b5d2",
      "sha256:abbd6b1c2ef6199f4b7ca9f818eb6b31f17b73a6110aadc4e4298c3f00fab24e",
      "sha256:771147e654e8b95eea1293174a94f34e2e77d5729ad44aefb62fbf8a79747a15",
      "sha256:48241759b99d60aba63b0e590332c600fc4b46ad597c9b0a53f350b871ef0634",
      "sha256:b16d88da290334e33ea992c56492326ea3b06233a00a1855414360b77ca72f26",
      "sha256:ab4896a8c910b9a04c0142871d8800c76c8a2e5ff44763513e1dd9d9631ce897",
      "sha256:7fde5c2a3a682a9e101e61d97696687ebdba47637611378b4127fe7e47fdf2bf",
      "sha256:4b4f2924b36d857cf302aec369caac61e43500c17eeef0d7baacad1084c0ee84",
      "sha256:d160e57731fcdec2beda807ebcabf39823c47e9409485b5a3a1db3a8c6ce763e",
      "sha256:1f46532afa7b2903bfb1b79becca2954c0a04389d19e03dc73f06b039048ac40",
      "sha256:1c666f04553ef70fda54adf097dbae7080645435fc273e2397f26bbf1d127bbb",
      "sha256:3d5fcea4f5ed40c3280791d54da3ad2ecf896f4c87c877b113576b8280c59441",
      "sha256:5a8f021c70e6206c317974c93eaaf9bc2b56295b6b1cacccf88846e44a1f33fc",
      "sha256:cfef82c43b8b29ca436560d51b2251d5117818a8d1fb74a8384a83c096745dad",
      "sha256:a4f4460877a16ac73302a9c077ca545498d9fe64e6a81398d8e1a67e4695e3df",
      "sha256:78a6f89da87eeb48014ec652a65c4ffde370c036d780a995edaeb121d3625621"
     ],
     "index": "pypi-org",
     "version": "==1.16.3"
    },
    "pandas": {
     "hashes": [
      "sha256:17916d818592c9ec891cbef2e90f98cc85e0f1e89ed0924c9b5220dc3209c846",
      "sha256:5149a6db3e74f23dc3f5a216c2c9ae2e12920aa2d4a5b77e44e5b804a5f93248",
      "sha256:cc8fc0c7a8d5951dc738f1c1447f71c43734244453616f32b8aa0ef6013a5dfb",
      "sha256:42e5ad741a0d09232efbc7fc648226ed93306551772fc8aecc6dce9f0e676794",
      "sha256:c9a4b7c55115eb278c19aa14b34fcf5920c8fe7797a09b7b053ddd6195ea89b3",
      "sha256:17450e25ae69e2e6b303817bdf26b2cd57f69595d8550a77c308be0cd0fd58fa",
      "sha256:366f30710172cb45a6b4f43b66c220653b1ea50303fbbd94e50571637ffb9167",
      "sha256:4e718e7f395ba5bfe8b6f6aaf2ff1c65a09bb77a36af6394621434e7cc813204",
      "sha256:8c872f7fdf3018b7891e1e3e86c55b190e6c5cee70cab771e8f246c855001296",
      "sha256:a3352bacac12e1fc646213b998bce586f965c9d431773d9e91db27c7c48a1f7d",
      "sha256:d7b460bc316064540ce0c41c1438c416a40746fd8a4fb2999668bf18f3c4acf1",
      "sha256:c1bd07ebc15285535f61ddd8c0c75d0d6293e80e1ee6d9a8d73f3f36954342d0",
      "sha256:071e42b89b57baa17031af8c6b6bbd2e9a5c68c595bc6bf9adabd7a9ed125d3b",
      "sha256:2538f099ab0e9f9c9d09bbcd94b47fd889bad06dc7ae96b1ed583f1dc1a7a822",
      "sha256:83c702615052f2a0a7fb1dd289726e29ec87a27272d775cb77affe749cca28f8",
      "sha256:627594338d6dd995cfc0bacd8e654cd9e1252d2a7c959449228df6740d737eb8",
      "sha256:4fe0d7e6438212e839fc5010c78b822664f1a824c0d263fd858f44131d9166e2",
      "sha256:bcdd06007cca02d51350f96debe51331dec429ac8f93930a43eb8fb5639e3eb5",
      "sha256:90f116086063934afd51e61a802a943826d2aac572b2f7d55caaac51c13db5b5",
      "sha256:4f919f409c433577a501e023943e582c57355d50a724c589e78bc1d551a535a2"
     ],
     "index": "pypi-org",
     "version": "==0.24.2"
    },
    "python-dateutil": {
     "hashes": [
      "sha256:07009062406cffd554a9b4135cd2ff167c9bf6b7aac61fe946c93e69fad1bbd8",
      "sha256:8f95bb7e6edbb2456a51a1fb58c8dca942024b4f5844cae62c90aa88afe6e300"
     ],
     "index": "pypi-org",
     "version": "==2.7.0"
    },
    "pytz": {
     "hashes": [
      "sha256:303879e36b721603cc54604edcac9d20401bdbe31e1e4fdee5b9f98d5d31dfda",
      "sha256:d747dd3d23d77ef44c6a3526e274af6efeb0a6f1afd5a69ba4d5be4098c8e141"
     ],
     "index": "pypi-org",
     "version": "==2019.1"
    },
    "six": {
     "hashes": [
      "sha256:3350809f0555b11f552448330d0b52d5f24c91a322ea4a15ef22629740f3761c",
      "sha256:d16a0141ec1a18405cd4ce8b4613101da75da0e9a7aec5bdd4fa804d0e0eba73"
     ],
     "index": "pypi-org",
     "version": "==1.12.0"
    }
   },
   "develop": {}
  },
  "toc": {
   "base_numbering": 1,
   "nav_menu": {
    "height": "115.99px",
    "width": "301.927px"
   },
   "number_sections": true,
   "sideBar": true,
   "skip_h1_title": true,
   "title_cell": "Table of Contents",
   "title_sidebar": "Contents",
   "toc_cell": true,
   "toc_position": {
    "height": "calc(100% - 180px)",
    "left": "10px",
    "top": "150px",
    "width": "180px"
   },
   "toc_section_display": true,
   "toc_window_display": false
  }
 },
 "nbformat": 4,
 "nbformat_minor": 2
}
